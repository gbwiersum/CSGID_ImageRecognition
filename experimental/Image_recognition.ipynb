{
 "cells": [
  {
   "cell_type": "code",
   "execution_count": 2,
   "outputs": [],
   "source": [
    "import pandas as pd\n",
    "import numpy as np\n",
    "import tensorflow as tf\n",
    "from pipeline.CrystalFinder import CrystalFinder"
   ],
   "metadata": {
    "collapsed": false,
    "pycharm": {
     "name": "#%%\n"
    }
   }
  },
  {
   "cell_type": "code",
   "execution_count": 3,
   "outputs": [],
   "source": [
    "finder = CrystalFinder('../Models/Categorical-Model-12122020.h5')\n",
    "preds = finder.get_predictions('../Minstrel-Screens/C2019015/1')"
   ],
   "metadata": {
    "collapsed": false,
    "pycharm": {
     "name": "#%%\n"
    }
   }
  },
  {
   "cell_type": "code",
   "execution_count": 4,
   "outputs": [
    {
     "data": {
      "text/plain": "                                              filepath  \\\n6    ../Minstrel-Screens/C2019015/1/RMM3_01_429_ROB...   \n9    ../Minstrel-Screens/C2019015/1/RMM3_01_429_ROB...   \n18   ../Minstrel-Screens/C2019015/1/RMM3_01_429_ROB...   \n19   ../Minstrel-Screens/C2019015/1/RMM3_01_429_ROB...   \n27   ../Minstrel-Screens/C2019015/1/RMM3_01_429_ROB...   \n..                                                 ...   \n744  ../Minstrel-Screens/C2019015/1/RMM3_01_429_ROB...   \n752  ../Minstrel-Screens/C2019015/1/RMM3_01_429_ROB...   \n762  ../Minstrel-Screens/C2019015/1/RMM3_01_429_ROB...   \n765  ../Minstrel-Screens/C2019015/1/RMM3_01_429_ROB...   \n771  ../Minstrel-Screens/C2019015/1/RMM3_01_429_ROB...   \n\n                                                 image AI_predict  \n6    [[[[74 73 68], [77 76 71], [82 80 75], [84 82 ...    Crystal  \n9    [[[[76 75 70], [74 73 68], [73 72 67], [74 73 ...    Crystal  \n18   [[[[157 157 143], [157 158 144], [157 158 143]...    Crystal  \n19   [[[[167 168 149], [170 172 151], [169 170 149]...    Crystal  \n27   [[[[95 93 81], [95 93 81], [94 90 81], [93 90 ...    Crystal  \n..                                                 ...        ...  \n744  [[[[87 84 75], [89 86 77], [91 88 81], [91 88 ...    Crystal  \n752  [[[[93 90 85], [97 94 89], [93 90 85], [88 85 ...    Crystal  \n762  [[[[86 83 78], [85 82 77], [83 80 75], [83 80 ...    Crystal  \n765  [[[[83 84 78], [85 86 80], [89 90 84], [91 92 ...    Crystal  \n771  [[[[82 82 72], [83 83 73], [84 84 76], [84 84 ...    Crystal  \n\n[120 rows x 3 columns]",
      "text/html": "<div>\n<style scoped>\n    .dataframe tbody tr th:only-of-type {\n        vertical-align: middle;\n    }\n\n    .dataframe tbody tr th {\n        vertical-align: top;\n    }\n\n    .dataframe thead th {\n        text-align: right;\n    }\n</style>\n<table border=\"1\" class=\"dataframe\">\n  <thead>\n    <tr style=\"text-align: right;\">\n      <th></th>\n      <th>filepath</th>\n      <th>image</th>\n      <th>AI_predict</th>\n    </tr>\n  </thead>\n  <tbody>\n    <tr>\n      <th>6</th>\n      <td>../Minstrel-Screens/C2019015/1/RMM3_01_429_ROB...</td>\n      <td>[[[[74 73 68], [77 76 71], [82 80 75], [84 82 ...</td>\n      <td>Crystal</td>\n    </tr>\n    <tr>\n      <th>9</th>\n      <td>../Minstrel-Screens/C2019015/1/RMM3_01_429_ROB...</td>\n      <td>[[[[76 75 70], [74 73 68], [73 72 67], [74 73 ...</td>\n      <td>Crystal</td>\n    </tr>\n    <tr>\n      <th>18</th>\n      <td>../Minstrel-Screens/C2019015/1/RMM3_01_429_ROB...</td>\n      <td>[[[[157 157 143], [157 158 144], [157 158 143]...</td>\n      <td>Crystal</td>\n    </tr>\n    <tr>\n      <th>19</th>\n      <td>../Minstrel-Screens/C2019015/1/RMM3_01_429_ROB...</td>\n      <td>[[[[167 168 149], [170 172 151], [169 170 149]...</td>\n      <td>Crystal</td>\n    </tr>\n    <tr>\n      <th>27</th>\n      <td>../Minstrel-Screens/C2019015/1/RMM3_01_429_ROB...</td>\n      <td>[[[[95 93 81], [95 93 81], [94 90 81], [93 90 ...</td>\n      <td>Crystal</td>\n    </tr>\n    <tr>\n      <th>...</th>\n      <td>...</td>\n      <td>...</td>\n      <td>...</td>\n    </tr>\n    <tr>\n      <th>744</th>\n      <td>../Minstrel-Screens/C2019015/1/RMM3_01_429_ROB...</td>\n      <td>[[[[87 84 75], [89 86 77], [91 88 81], [91 88 ...</td>\n      <td>Crystal</td>\n    </tr>\n    <tr>\n      <th>752</th>\n      <td>../Minstrel-Screens/C2019015/1/RMM3_01_429_ROB...</td>\n      <td>[[[[93 90 85], [97 94 89], [93 90 85], [88 85 ...</td>\n      <td>Crystal</td>\n    </tr>\n    <tr>\n      <th>762</th>\n      <td>../Minstrel-Screens/C2019015/1/RMM3_01_429_ROB...</td>\n      <td>[[[[86 83 78], [85 82 77], [83 80 75], [83 80 ...</td>\n      <td>Crystal</td>\n    </tr>\n    <tr>\n      <th>765</th>\n      <td>../Minstrel-Screens/C2019015/1/RMM3_01_429_ROB...</td>\n      <td>[[[[83 84 78], [85 86 80], [89 90 84], [91 92 ...</td>\n      <td>Crystal</td>\n    </tr>\n    <tr>\n      <th>771</th>\n      <td>../Minstrel-Screens/C2019015/1/RMM3_01_429_ROB...</td>\n      <td>[[[[82 82 72], [83 83 73], [84 84 76], [84 84 ...</td>\n      <td>Crystal</td>\n    </tr>\n  </tbody>\n</table>\n<p>120 rows × 3 columns</p>\n</div>"
     },
     "execution_count": 4,
     "metadata": {},
     "output_type": "execute_result"
    }
   ],
   "source": [
    "preds[preds[\"AI_predict\"]==\"Crystal\"]"
   ],
   "metadata": {
    "collapsed": false,
    "pycharm": {
     "name": "#%%\n"
    }
   }
  },
  {
   "cell_type": "code",
   "execution_count": 33,
   "outputs": [
    {
     "data": {
      "text/plain": "                          Time Score_number           Score_Name  \\\n0      '2008-03-11 12:22:38.0'         '12'    'Bad Precipitate'   \n1      '2008-05-15 15:00:01.0'         '13'        'Precipitate'   \n2      '2008-05-15 15:00:31.0'         '13'        'Precipitate'   \n3      '2008-05-15 15:02:00.0'         '33'              'Other'   \n4      '2008-05-15 15:06:17.0'         '23'  'Crystals-bad form'   \n...                        ...          ...                  ...   \n54104  '2021-03-08 15:33:10.0'         '13'        'Precipitate'   \n54105  '2021-03-08 15:33:40.0'         '13'        'Precipitate'   \n54106  '2021-03-08 15:34:21.0'         '13'        'Precipitate'   \n54107  '2021-03-08 15:34:56.0'         '13'        'Precipitate'   \n54108  '2021-03-08 15:35:30.0'         '13'        'Precipitate'   \n\n                                                Filepath  \n0      'images/C0000001/4/RMM3_01_429_ROBO_Test1_Clon...  \n1      'images/C2000036/1/RMM3_01_429_ROBO_Test1_Clon...  \n2      'images/C2000036/1/RMM3_01_429_ROBO_Test1_Clon...  \n3      'images/C2000038/1/RMM3_01_429_ROBO_Test1_Clon...  \n4      'images/C2000038/1/RMM3_01_429_ROBO_Test1_Clon...  \n...                                                  ...  \n54104  'images/C2019257/5/RMM3_01_429_ROBO_Test1_Clon...  \n54105  'images/C2019258/5/RMM3_01_429_ROBO_Test1_Clon...  \n54106  'images/C2019259/5/RMM3_01_429_ROBO_Test1_Clon...  \n54107  'images/C2019260/5/RMM3_01_429_ROBO_Test1_Clon...  \n54108  'images/C2019261/5/RMM3_01_429_ROBO_Test1_Clon...  \n\n[54109 rows x 4 columns]",
      "text/html": "<div>\n<style scoped>\n    .dataframe tbody tr th:only-of-type {\n        vertical-align: middle;\n    }\n\n    .dataframe tbody tr th {\n        vertical-align: top;\n    }\n\n    .dataframe thead th {\n        text-align: right;\n    }\n</style>\n<table border=\"1\" class=\"dataframe\">\n  <thead>\n    <tr style=\"text-align: right;\">\n      <th></th>\n      <th>Time</th>\n      <th>Score_number</th>\n      <th>Score_Name</th>\n      <th>Filepath</th>\n    </tr>\n  </thead>\n  <tbody>\n    <tr>\n      <th>0</th>\n      <td>'2008-03-11 12:22:38.0'</td>\n      <td>'12'</td>\n      <td>'Bad Precipitate'</td>\n      <td>'images/C0000001/4/RMM3_01_429_ROBO_Test1_Clon...</td>\n    </tr>\n    <tr>\n      <th>1</th>\n      <td>'2008-05-15 15:00:01.0'</td>\n      <td>'13'</td>\n      <td>'Precipitate'</td>\n      <td>'images/C2000036/1/RMM3_01_429_ROBO_Test1_Clon...</td>\n    </tr>\n    <tr>\n      <th>2</th>\n      <td>'2008-05-15 15:00:31.0'</td>\n      <td>'13'</td>\n      <td>'Precipitate'</td>\n      <td>'images/C2000036/1/RMM3_01_429_ROBO_Test1_Clon...</td>\n    </tr>\n    <tr>\n      <th>3</th>\n      <td>'2008-05-15 15:02:00.0'</td>\n      <td>'33'</td>\n      <td>'Other'</td>\n      <td>'images/C2000038/1/RMM3_01_429_ROBO_Test1_Clon...</td>\n    </tr>\n    <tr>\n      <th>4</th>\n      <td>'2008-05-15 15:06:17.0'</td>\n      <td>'23'</td>\n      <td>'Crystals-bad form'</td>\n      <td>'images/C2000038/1/RMM3_01_429_ROBO_Test1_Clon...</td>\n    </tr>\n    <tr>\n      <th>...</th>\n      <td>...</td>\n      <td>...</td>\n      <td>...</td>\n      <td>...</td>\n    </tr>\n    <tr>\n      <th>54104</th>\n      <td>'2021-03-08 15:33:10.0'</td>\n      <td>'13'</td>\n      <td>'Precipitate'</td>\n      <td>'images/C2019257/5/RMM3_01_429_ROBO_Test1_Clon...</td>\n    </tr>\n    <tr>\n      <th>54105</th>\n      <td>'2021-03-08 15:33:40.0'</td>\n      <td>'13'</td>\n      <td>'Precipitate'</td>\n      <td>'images/C2019258/5/RMM3_01_429_ROBO_Test1_Clon...</td>\n    </tr>\n    <tr>\n      <th>54106</th>\n      <td>'2021-03-08 15:34:21.0'</td>\n      <td>'13'</td>\n      <td>'Precipitate'</td>\n      <td>'images/C2019259/5/RMM3_01_429_ROBO_Test1_Clon...</td>\n    </tr>\n    <tr>\n      <th>54107</th>\n      <td>'2021-03-08 15:34:56.0'</td>\n      <td>'13'</td>\n      <td>'Precipitate'</td>\n      <td>'images/C2019260/5/RMM3_01_429_ROBO_Test1_Clon...</td>\n    </tr>\n    <tr>\n      <th>54108</th>\n      <td>'2021-03-08 15:35:30.0'</td>\n      <td>'13'</td>\n      <td>'Precipitate'</td>\n      <td>'images/C2019261/5/RMM3_01_429_ROBO_Test1_Clon...</td>\n    </tr>\n  </tbody>\n</table>\n<p>54109 rows × 4 columns</p>\n</div>"
     },
     "execution_count": 33,
     "metadata": {},
     "output_type": "execute_result"
    }
   ],
   "source": [
    "scored = pd.read_csv('/home/grant/Documents/CSGID/CSGID_ImageRecognition/path-to-screens/minstrel-scored.csv')\n",
    "scored = scored.append(list(scored.columns))\n",
    "scored.dropna(axis=1, thresh=10, inplace=True)\n",
    "scored.drop(columns=0, inplace=True)\n",
    "scored.dropna(axis=0, how='any', inplace=True)\n",
    "scored.columns = [\"Timestamp\", \"Score_Number\", \"Score_Name\", \"Filepath\"]"
   ],
   "metadata": {
    "collapsed": false,
    "pycharm": {
     "name": "#%%\n"
    }
   }
  },
  {
   "cell_type": "code",
   "execution_count": 37,
   "outputs": [
    {
     "data": {
      "text/plain": "{\"'Bad Precipitate'\": 'Precipitate',\n \"'Precipitate'\": 'Precipitate',\n \"'Other'\": 'Other',\n \"'Crystals-bad form'\": 'Crystal',\n \"'crystals - overnucleated'\": 'Crystal',\n \"'phase separation'\": 'Other',\n \"'Good precipitate'\": 'Precipitate',\n \"'Spherolites'\": 'Other',\n \"'Clear'\": 'Clear',\n \"'needles'\": 'Crystal',\n \"'Clear with stuff'\": 'Other',\n \"'Null experiment'\": 'Clear',\n \"'Small crystals'\": 'Other',\n \"'Crystals-harvestable'\": 'Crystal'}"
     },
     "execution_count": 37,
     "metadata": {},
     "output_type": "execute_result"
    }
   ],
   "source": [
    "minstrel_to_model = dict(zip(scored[\"Score_Name\"].unique(),\n",
    "                     [\"Precipitate\", \"Precipitate\", \"Other\", \"Crystal\", \"Crystal\",\n",
    "                      \"Other\", \"Precipitate\", \"Other\", \"Clear\", \"Crystal\", \"Other\",\n",
    "                      \"Clear\", \"Other\", \"Crystal\", \"Crystal\"]))\n",
    "\n",
    "model_to_ai = {\"Clear\" : 0,\n",
    "               \"Crystal\" : 1,\n",
    "               \"Precipitate\" : 2,\n",
    "               \"Other\" : 3,\n",
    "               }"
   ],
   "metadata": {
    "collapsed": false,
    "pycharm": {
     "name": "#%%\n"
    }
   }
  },
  {
   "cell_type": "code",
   "execution_count": 40,
   "outputs": [
    {
     "data": {
      "text/plain": "[]"
     },
     "execution_count": 40,
     "metadata": {},
     "output_type": "execute_result"
    }
   ],
   "source": [
    "tf.config.list_physical_devices(\"GPU\") # True/False"
   ],
   "metadata": {
    "collapsed": false,
    "pycharm": {
     "name": "#%%\n"
    }
   }
  },
  {
   "cell_type": "code",
   "execution_count": null,
   "outputs": [],
   "source": [
    "# Much of the code used here is based on: https://keras.io/examples/keras_recipes/tfrecord/\n",
    "from utils.DataGenerator import get_dataset\n",
    "import glob\n",
    "\n",
    "train_list = glob.glob('../train-jpg/*')[0:2]\n",
    "test_list = glob.glob('../test-jpg/*')[0:1]\n",
    "valid_list = test_list\n",
    "\n",
    "# Tuning and training params:\n",
    "BATCH_SIZE = 1\n",
    "IMAGE_SIZE = [299, 299, 3]\n",
    "\n",
    "print(\"Train Files: \", len(train_list))\n",
    "print(\"Test Files: \", len(test_list))\n",
    "\n",
    "train_dataset = get_dataset(train_list, batch_size=BATCH_SIZE, im_size=IMAGE_SIZE)\n",
    "valid_dataset = get_dataset(test_list, batch_size=BATCH_SIZE, im_size=IMAGE_SIZE)\n",
    "test_dataset = get_dataset(test_list, labeled=False, batch_size=BATCH_SIZE, im_size=IMAGE_SIZE)"
   ],
   "metadata": {
    "collapsed": false,
    "pycharm": {
     "name": "#%%\n"
    }
   }
  },
  {
   "cell_type": "code",
   "execution_count": 22,
   "outputs": [],
   "source": [
    "#import matplotlib.pyplot as plt\n",
    "test_image, test_label = next(iter(valid_dataset))"
   ],
   "metadata": {
    "collapsed": false,
    "pycharm": {
     "name": "#%%\n"
    }
   }
  },
  {
   "cell_type": "code",
   "execution_count": 18,
   "outputs": [],
   "source": [
    "test_pred = classifier.predict(test_image)\n",
    "#plt.imshow(test_image[0].numpy()/255)"
   ],
   "metadata": {
    "collapsed": false,
    "pycharm": {
     "name": "#%%\n"
    }
   }
  },
  {
   "cell_type": "code",
   "execution_count": 25,
   "outputs": [
    {
     "data": {
      "text/plain": "array([3, 0, 0, 0, 1, 3, 0, 0, 0, 0, 3, 0, 0, 0, 3, 0, 0, 0, 3, 0, 3, 3,\n       1, 3, 3, 1, 0, 3, 3, 0, 3, 3, 0, 3, 2, 0, 0, 3, 0, 0, 0, 3, 3, 0,\n       3, 0, 0, 3, 1, 3, 0, 3, 0, 0, 0, 0, 3, 3, 0, 3, 3, 0, 0, 3, 3, 0,\n       3, 3, 0, 0, 0, 3, 3, 3, 0, 3, 1, 3, 0, 3, 2, 1, 3, 0, 3, 0, 3, 3,\n       3, 3, 3, 0, 3, 3, 3, 3, 2, 3, 0, 3])"
     },
     "execution_count": 25,
     "metadata": {},
     "output_type": "execute_result"
    }
   ],
   "source": [
    "#Coded scores of individual images\n",
    "np.argmax(test_pred, axis=1)"
   ],
   "metadata": {
    "collapsed": false,
    "pycharm": {
     "name": "#%%\n"
    }
   }
  },
  {
   "cell_type": "code",
   "execution_count": 23,
   "outputs": [
    {
     "data": {
      "text/plain": "<tf.Tensor: shape=(1, 299, 299, 3), dtype=float32, numpy=\narray([[[[  0.      ,   0.      ,   0.      ],\n         [  0.      ,   0.      ,   0.      ],\n         [  0.      ,   0.      ,   0.      ],\n         ...,\n         [  0.      ,   0.      ,   0.      ],\n         [  0.      ,   0.      ,   0.      ],\n         [  0.      ,   0.      ,   0.      ]],\n\n        [[  0.      ,   0.      ,   0.      ],\n         [  0.      ,   0.      ,   0.      ],\n         [  0.      ,   0.      ,   0.      ],\n         ...,\n         [  0.      ,   0.      ,   0.      ],\n         [  0.      ,   0.      ,   0.      ],\n         [  0.      ,   0.      ,   0.      ]],\n\n        [[102.02449 , 102.02449 , 102.02449 ],\n         [ 99.071815,  99.071815,  99.071815],\n         [ 97.00717 ,  97.00717 ,  97.00717 ],\n         ...,\n         [ 67.33158 ,  67.33158 ,  67.33158 ],\n         [ 67.94145 ,  67.94145 ,  67.94145 ],\n         [ 69.22516 ,  69.22516 ,  69.22516 ]],\n\n        ...,\n\n        [[110.616005, 110.616005, 110.616005],\n         [107.66329 , 107.66329 , 107.66329 ],\n         [104.37889 , 104.37889 , 104.37889 ],\n         ...,\n         [ 63.866405,  63.866405,  63.866405],\n         [ 63.983925,  63.983925,  63.983925],\n         [ 66.604904,  66.604904,  66.604904]],\n\n        [[  0.      ,   0.      ,   0.      ],\n         [  0.      ,   0.      ,   0.      ],\n         [  0.      ,   0.      ,   0.      ],\n         ...,\n         [  0.      ,   0.      ,   0.      ],\n         [  0.      ,   0.      ,   0.      ],\n         [  0.      ,   0.      ,   0.      ]],\n\n        [[  0.      ,   0.      ,   0.      ],\n         [  0.      ,   0.      ,   0.      ],\n         [  0.      ,   0.      ,   0.      ],\n         ...,\n         [  0.      ,   0.      ,   0.      ],\n         [  0.      ,   0.      ,   0.      ],\n         [  0.      ,   0.      ,   0.      ]]]], dtype=float32)>"
     },
     "execution_count": 23,
     "metadata": {},
     "output_type": "execute_result"
    }
   ],
   "source": [
    "test_image"
   ],
   "metadata": {
    "collapsed": false,
    "pycharm": {
     "name": "#%%\n"
    }
   }
  },
  {
   "cell_type": "code",
   "execution_count": 242,
   "outputs": [],
   "source": [
    "# The following functions can be used to convert a value to a type compatible\n",
    "# with tf.train.Example.\n",
    "\n",
    "def _bytes_feature(value):\n",
    "  \"\"\"Returns a bytes_list from a string / byte.\"\"\"\n",
    "  if isinstance(value, type(tf.constant(0))):\n",
    "    value = value.numpy() # BytesList won't unpack a string from an EagerTensor.\n",
    "  return tf.train.Feature(bytes_list=tf.train.BytesList(value=[value]))\n",
    "\n",
    "def _float_feature(value):\n",
    "  \"\"\"Returns a float_list from a float / double.\"\"\"\n",
    "  return tf.train.Feature(float_list=tf.train.FloatList(value=[value]))\n",
    "\n",
    "def _int64_feature(value):\n",
    "  \"\"\"Returns an int64_list from a bool / enum / int / uint.\"\"\"\n",
    "  return tf.train.Feature(int64_list=tf.train.Int64List(value=[value]))\n",
    "\n",
    "def tfrecord_writer(filepath, label=5):\n",
    "    image_string = open(filepath, 'rb').read()\n",
    "    image_shape = tf.image.decode_jpeg(image_string).shape\n",
    "    label = label\n",
    "    feature = {\n",
    "        \"image/height\": _int64_feature(image_shape[0]),  # image height in pixels\n",
    "        \"image/width\": _int64_feature(image_shape[1]),  # image width in pixels\n",
    "        \"image/colorspace\": _bytes_feature(bytes('RGB', encoding='utf8')),  # specifying the colorspace, always 'RGB'\n",
    "        \"image/channels\": _int64_feature(3),  # specifying the number of channels, always 3\n",
    "        \"image/class/label\": _int64_feature(label),  # specifying the index in a normalized classification layer\n",
    "        \"image/class/raw\": _int64_feature(label),\n",
    "        # specifying the index in the raw (original) classification layer\n",
    "        \"image/class/source\": _int64_feature(5),\n",
    "        # specifying the index of the source (creator of the image) - CSGID = 5\n",
    "        \"image/class/text\": _bytes_feature(bytes(label)),\n",
    "        # specifying the human-readable version of the normalized label\n",
    "        \"image/format\": _bytes_feature(bytes(\"JPEG\", encoding='utf8')),  # specifying the format, always 'JPEG'\n",
    "        \"image/filename\": _bytes_feature(bytes(filepath, encoding='utf8' )),  # containing the basename of the image file\n",
    "        \"image/id\": _bytes_feature(bytes(filepath, encoding='utf8')),  # specifying the unique id for the image\n",
    "        \"image/encoded\": _bytes_feature(image_string),  # containing JPEG encoded image in RGB colorspace\n",
    "\n",
    "    }\n",
    "    return tf.train.Example(features=tf.train.Features(feature=feature))"
   ],
   "metadata": {
    "collapsed": false,
    "pycharm": {
     "name": "#%%\n"
    }
   }
  },
  {
   "cell_type": "code",
   "execution_count": 243,
   "outputs": [
    {
     "data": {
      "text/plain": "{0: '../Minstrel-Screens/C2019025/1/RMM3_01_429_ROBO_Test1_Clon1_C2_0000C2019025_001_201030_04_08_01_E0_99_025_001_RDI.jpg',\n 1: '../Minstrel-Screens/C2019025/1/RMM3_01_429_ROBO_Test1_Clon1_C2_0000C2019025_001_201030_05_08_01_E0_99_025_001_RDI.jpg',\n 2: '../Minstrel-Screens/C2019025/1/RMM3_01_429_ROBO_Test1_Clon1_C2_0000C2019025_001_201030_03_01_01_E0_99_025_001_RDI.jpg',\n 3: '../Minstrel-Screens/C2019025/1/RMM3_01_429_ROBO_Test1_Clon1_C2_0000C2019025_001_201030_03_03_01_E0_99_025_001_RDI.jpg',\n 4: '../Minstrel-Screens/C2019025/1/RMM3_01_429_ROBO_Test1_Clon1_C2_0000C2019025_001_201030_08_03_01_E0_99_025_001_RDI.jpg',\n 5: '../Minstrel-Screens/C2019025/1/RMM3_01_429_ROBO_Test1_Clon1_C2_0000C2019025_001_201030_02_08_01_E0_99_025_001_RDI.jpg',\n 6: '../Minstrel-Screens/C2019025/1/RMM3_01_429_ROBO_Test1_Clon1_C2_0000C2019025_001_201030_06_07_01_E0_99_025_001_RDI.jpg',\n 7: '../Minstrel-Screens/C2019025/1/RMM3_01_429_ROBO_Test1_Clon1_C2_0000C2019025_001_201030_10_08_01_E0_99_025_001_RDI.jpg',\n 8: '../Minstrel-Screens/C2019025/1/RMM3_01_429_ROBO_Test1_Clon1_C2_0000C2019025_001_201030_11_04_01_E0_99_025_001_RDI.jpg',\n 9: '../Minstrel-Screens/C2019025/1/RMM3_01_429_ROBO_Test1_Clon1_C2_0000C2019025_001_201030_11_07_01_E0_99_025_001_RDI.jpg',\n 10: '../Minstrel-Screens/C2019025/1/RMM3_01_429_ROBO_Test1_Clon1_C2_0000C2019025_001_201030_04_07_01_E0_99_025_001_RDI.jpg',\n 11: '../Minstrel-Screens/C2019025/1/RMM3_01_429_ROBO_Test1_Clon1_C2_0000C2019025_001_201030_01_05_01_E0_99_025_001_RDI.jpg',\n 12: '../Minstrel-Screens/C2019025/1/RMM3_01_429_ROBO_Test1_Clon1_C2_0000C2019025_001_201030_01_04_01_E0_99_025_001_RDI.jpg',\n 13: '../Minstrel-Screens/C2019025/1/RMM3_01_429_ROBO_Test1_Clon1_C2_0000C2019025_001_201030_05_05_01_E0_99_025_001_RDI.jpg',\n 14: '../Minstrel-Screens/C2019025/1/RMM3_01_429_ROBO_Test1_Clon1_C2_0000C2019025_001_201030_08_01_01_E0_99_025_001_RDI.jpg',\n 15: '../Minstrel-Screens/C2019025/1/RMM3_01_429_ROBO_Test1_Clon1_C2_0000C2019025_001_201030_06_01_01_E0_99_025_001_RDI.jpg',\n 16: '../Minstrel-Screens/C2019025/1/RMM3_01_429_ROBO_Test1_Clon1_C2_0000C2019025_001_201030_02_02_01_E0_99_025_001_RDI.jpg',\n 17: '../Minstrel-Screens/C2019025/1/RMM3_01_429_ROBO_Test1_Clon1_C2_0000C2019025_001_201030_07_03_01_E0_99_025_001_RDI.jpg',\n 18: '../Minstrel-Screens/C2019025/1/RMM3_01_429_ROBO_Test1_Clon1_C2_0000C2019025_001_201030_07_01_01_E0_99_025_001_RDI.jpg',\n 19: '../Minstrel-Screens/C2019025/1/RMM3_01_429_ROBO_Test1_Clon1_C2_0000C2019025_001_201030_03_07_01_E0_99_025_001_RDI.jpg',\n 20: '../Minstrel-Screens/C2019025/1/RMM3_01_429_ROBO_Test1_Clon1_C2_0000C2019025_001_201030_08_08_01_E0_99_025_001_RDI.jpg',\n 21: '../Minstrel-Screens/C2019025/1/RMM3_01_429_ROBO_Test1_Clon1_C2_0000C2019025_001_201030_07_04_01_E0_99_025_001_RDI.jpg',\n 22: '../Minstrel-Screens/C2019025/1/RMM3_01_429_ROBO_Test1_Clon1_C2_0000C2019025_001_201030_04_04_01_E0_99_025_001_RDI.jpg',\n 23: '../Minstrel-Screens/C2019025/1/RMM3_01_429_ROBO_Test1_Clon1_C2_0000C2019025_001_201030_09_04_01_E0_99_025_001_RDI.jpg',\n 24: '../Minstrel-Screens/C2019025/1/RMM3_01_429_ROBO_Test1_Clon1_C2_0000C2019025_001_201030_09_01_01_E0_99_025_001_RDI.jpg',\n 25: '../Minstrel-Screens/C2019025/1/RMM3_01_429_ROBO_Test1_Clon1_C2_0000C2019025_001_201030_04_02_01_E0_99_025_001_RDI.jpg',\n 26: '../Minstrel-Screens/C2019025/1/RMM3_01_429_ROBO_Test1_Clon1_C2_0000C2019025_001_201030_05_07_01_E0_99_025_001_RDI.jpg',\n 27: '../Minstrel-Screens/C2019025/1/RMM3_01_429_ROBO_Test1_Clon1_C2_0000C2019025_001_201030_02_01_01_E0_99_025_001_RDI.jpg',\n 28: '../Minstrel-Screens/C2019025/1/RMM3_01_429_ROBO_Test1_Clon1_C2_0000C2019025_001_201030_09_08_01_E0_99_025_001_RDI.jpg',\n 29: '../Minstrel-Screens/C2019025/1/RMM3_01_429_ROBO_Test1_Clon1_C2_0000C2019025_001_201030_04_06_01_E0_99_025_001_RDI.jpg',\n 30: '../Minstrel-Screens/C2019025/1/RMM3_01_429_ROBO_Test1_Clon1_C2_0000C2019025_001_201030_10_02_01_E0_99_025_001_RDI.jpg',\n 31: '../Minstrel-Screens/C2019025/1/RMM3_01_429_ROBO_Test1_Clon1_C2_0000C2019025_001_201030_02_04_01_E0_99_025_001_RDI.jpg',\n 32: '../Minstrel-Screens/C2019025/1/RMM3_01_429_ROBO_Test1_Clon1_C2_0000C2019025_001_201030_09_03_01_E0_99_025_001_RDI.jpg',\n 33: '../Minstrel-Screens/C2019025/1/RMM3_01_429_ROBO_Test1_Clon1_C2_0000C2019025_001_201030_06_04_01_E0_99_025_001_RDI.jpg',\n 34: '../Minstrel-Screens/C2019025/1/RMM3_01_429_ROBO_Test1_Clon1_C2_0000C2019025_001_201030_10_06_01_E0_99_025_001_RDI.jpg',\n 35: '../Minstrel-Screens/C2019025/1/RMM3_01_429_ROBO_Test1_Clon1_C2_0000C2019025_001_201030_10_04_01_E0_99_025_001_RDI.jpg',\n 36: '../Minstrel-Screens/C2019025/1/RMM3_01_429_ROBO_Test1_Clon1_C2_0000C2019025_001_201030_12_06_01_E0_99_025_001_RDI.jpg',\n 37: '../Minstrel-Screens/C2019025/1/RMM3_01_429_ROBO_Test1_Clon1_C2_0000C2019025_001_201030_09_06_01_E0_99_025_001_RDI.jpg',\n 38: '../Minstrel-Screens/C2019025/1/RMM3_01_429_ROBO_Test1_Clon1_C2_0000C2019025_001_201030_08_04_01_E0_99_025_001_RDI.jpg',\n 39: '../Minstrel-Screens/C2019025/1/RMM3_01_429_ROBO_Test1_Clon1_C2_0000C2019025_001_201030_03_05_01_E0_99_025_001_RDI.jpg',\n 40: '../Minstrel-Screens/C2019025/1/RMM3_01_429_ROBO_Test1_Clon1_C2_0000C2019025_001_201030_10_05_01_E0_99_025_001_RDI.jpg',\n 41: '../Minstrel-Screens/C2019025/1/RMM3_01_429_ROBO_Test1_Clon1_C2_0000C2019025_001_201030_04_03_01_E0_99_025_001_RDI.jpg',\n 42: '../Minstrel-Screens/C2019025/1/RMM3_01_429_ROBO_Test1_Clon1_C2_0000C2019025_001_201030_03_06_01_E0_99_025_001_RDI.jpg',\n 43: '../Minstrel-Screens/C2019025/1/RMM3_01_429_ROBO_Test1_Clon1_C2_0000C2019025_001_201030_08_05_01_E0_99_025_001_RDI.jpg',\n 44: '../Minstrel-Screens/C2019025/1/RMM3_01_429_ROBO_Test1_Clon1_C2_0000C2019025_001_201030_02_03_01_E0_99_025_001_RDI.jpg',\n 45: '../Minstrel-Screens/C2019025/1/RMM3_01_429_ROBO_Test1_Clon1_C2_0000C2019025_001_201030_08_07_01_E0_99_025_001_RDI.jpg',\n 46: '../Minstrel-Screens/C2019025/1/RMM3_01_429_ROBO_Test1_Clon1_C2_0000C2019025_001_201030_10_01_01_E0_99_025_001_RDI.jpg',\n 47: '../Minstrel-Screens/C2019025/1/RMM3_01_429_ROBO_Test1_Clon1_C2_0000C2019025_001_201030_06_02_01_E0_99_025_001_RDI.jpg',\n 48: '../Minstrel-Screens/C2019025/1/RMM3_01_429_ROBO_Test1_Clon1_C2_0000C2019025_001_201030_11_01_01_E0_99_025_001_RDI.jpg',\n 49: '../Minstrel-Screens/C2019025/1/RMM3_01_429_ROBO_Test1_Clon1_C2_0000C2019025_001_201030_12_01_01_E0_99_025_001_RDI.jpg',\n 50: '../Minstrel-Screens/C2019025/1/RMM3_01_429_ROBO_Test1_Clon1_C2_0000C2019025_001_201030_06_03_01_E0_99_025_001_RDI.jpg',\n 51: '../Minstrel-Screens/C2019025/1/RMM3_01_429_ROBO_Test1_Clon1_C2_0000C2019025_001_201030_01_08_01_E0_99_025_001_RDI.jpg',\n 52: '../Minstrel-Screens/C2019025/1/RMM3_01_429_ROBO_Test1_Clon1_C2_0000C2019025_001_201030_01_03_01_E0_99_025_001_RDI.jpg',\n 53: '../Minstrel-Screens/C2019025/1/RMM3_01_429_ROBO_Test1_Clon1_C2_0000C2019025_001_201030_03_08_01_E0_99_025_001_RDI.jpg',\n 54: '../Minstrel-Screens/C2019025/1/RMM3_01_429_ROBO_Test1_Clon1_C2_0000C2019025_001_201030_12_08_01_E0_99_025_001_RDI.jpg',\n 55: '../Minstrel-Screens/C2019025/1/RMM3_01_429_ROBO_Test1_Clon1_C2_0000C2019025_001_201030_12_03_01_E0_99_025_001_RDI.jpg',\n 56: '../Minstrel-Screens/C2019025/1/RMM3_01_429_ROBO_Test1_Clon1_C2_0000C2019025_001_201030_07_02_01_E0_99_025_001_RDI.jpg',\n 57: '../Minstrel-Screens/C2019025/1/RMM3_01_429_ROBO_Test1_Clon1_C2_0000C2019025_001_201030_05_03_01_E0_99_025_001_RDI.jpg',\n 58: '../Minstrel-Screens/C2019025/1/RMM3_01_429_ROBO_Test1_Clon1_C2_0000C2019025_001_201030_08_02_01_E0_99_025_001_RDI.jpg',\n 59: '../Minstrel-Screens/C2019025/1/RMM3_01_429_ROBO_Test1_Clon1_C2_0000C2019025_001_201030_11_05_01_E0_99_025_001_RDI.jpg',\n 60: '../Minstrel-Screens/C2019025/1/RMM3_01_429_ROBO_Test1_Clon1_C2_0000C2019025_001_201030_03_02_01_E0_99_025_001_RDI.jpg',\n 61: '../Minstrel-Screens/C2019025/1/RMM3_01_429_ROBO_Test1_Clon1_C2_0000C2019025_001_201030_07_05_01_E0_99_025_001_RDI.jpg',\n 62: '../Minstrel-Screens/C2019025/1/RMM3_01_429_ROBO_Test1_Clon1_C2_0000C2019025_001_201030_06_08_01_E0_99_025_001_RDI.jpg',\n 63: '../Minstrel-Screens/C2019025/1/RMM3_01_429_ROBO_Test1_Clon1_C2_0000C2019025_001_201030_11_03_01_E0_99_025_001_RDI.jpg',\n 64: '../Minstrel-Screens/C2019025/1/RMM3_01_429_ROBO_Test1_Clon1_C2_0000C2019025_001_201030_01_07_01_E0_99_025_001_RDI.jpg',\n 65: '../Minstrel-Screens/C2019025/1/RMM3_01_429_ROBO_Test1_Clon1_C2_0000C2019025_001_201030_01_01_01_E0_99_025_001_RDI.jpg',\n 66: '../Minstrel-Screens/C2019025/1/RMM3_01_429_ROBO_Test1_Clon1_C2_0000C2019025_001_201030_02_05_01_E0_99_025_001_RDI.jpg',\n 67: '../Minstrel-Screens/C2019025/1/RMM3_01_429_ROBO_Test1_Clon1_C2_0000C2019025_001_201030_09_05_01_E0_99_025_001_RDI.jpg',\n 68: '../Minstrel-Screens/C2019025/1/RMM3_01_429_ROBO_Test1_Clon1_C2_0000C2019025_001_201030_10_07_01_E0_99_025_001_RDI.jpg',\n 69: '../Minstrel-Screens/C2019025/1/RMM3_01_429_ROBO_Test1_Clon1_C2_0000C2019025_001_201030_11_02_01_E0_99_025_001_RDI.jpg',\n 70: '../Minstrel-Screens/C2019025/1/RMM3_01_429_ROBO_Test1_Clon1_C2_0000C2019025_001_201030_02_06_01_E0_99_025_001_RDI.jpg',\n 71: '../Minstrel-Screens/C2019025/1/RMM3_01_429_ROBO_Test1_Clon1_C2_0000C2019025_001_201030_05_02_01_E0_99_025_001_RDI.jpg',\n 72: '../Minstrel-Screens/C2019025/1/RMM3_01_429_ROBO_Test1_Clon1_C2_0000C2019025_001_201030_04_01_01_E0_99_025_001_RDI.jpg',\n 73: '../Minstrel-Screens/C2019025/1/RMM3_01_429_ROBO_Test1_Clon1_C2_0000C2019025_001_201030_04_05_01_E0_99_025_001_RDI.jpg',\n 74: '../Minstrel-Screens/C2019025/1/RMM3_01_429_ROBO_Test1_Clon1_C2_0000C2019025_001_201030_01_02_01_E0_99_025_001_RDI.jpg',\n 75: '../Minstrel-Screens/C2019025/1/RMM3_01_429_ROBO_Test1_Clon1_C2_0000C2019025_001_201030_02_07_01_E0_99_025_001_RDI.jpg',\n 76: '../Minstrel-Screens/C2019025/1/RMM3_01_429_ROBO_Test1_Clon1_C2_0000C2019025_001_201030_05_01_01_E0_99_025_001_RDI.jpg',\n 77: '../Minstrel-Screens/C2019025/1/RMM3_01_429_ROBO_Test1_Clon1_C2_0000C2019025_001_201030_11_06_01_E0_99_025_001_RDI.jpg',\n 78: '../Minstrel-Screens/C2019025/1/RMM3_01_429_ROBO_Test1_Clon1_C2_0000C2019025_001_201030_12_05_01_E0_99_025_001_RDI.jpg',\n 79: '../Minstrel-Screens/C2019025/1/RMM3_01_429_ROBO_Test1_Clon1_C2_0000C2019025_001_201030_08_06_01_E0_99_025_001_RDI.jpg',\n 80: '../Minstrel-Screens/C2019025/1/RMM3_01_429_ROBO_Test1_Clon1_C2_0000C2019025_001_201030_12_02_01_E0_99_025_001_RDI.jpg',\n 81: '../Minstrel-Screens/C2019025/1/RMM3_01_429_ROBO_Test1_Clon1_C2_0000C2019025_001_201030_09_02_01_E0_99_025_001_RDI.jpg',\n 82: '../Minstrel-Screens/C2019025/1/RMM3_01_429_ROBO_Test1_Clon1_C2_0000C2019025_001_201030_10_03_01_E0_99_025_001_RDI.jpg',\n 83: '../Minstrel-Screens/C2019025/1/RMM3_01_429_ROBO_Test1_Clon1_C2_0000C2019025_001_201030_05_04_01_E0_99_025_001_RDI.jpg',\n 84: '../Minstrel-Screens/C2019025/1/RMM3_01_429_ROBO_Test1_Clon1_C2_0000C2019025_001_201030_12_07_01_E0_99_025_001_RDI.jpg',\n 85: '../Minstrel-Screens/C2019025/1/RMM3_01_429_ROBO_Test1_Clon1_C2_0000C2019025_001_201030_11_08_01_E0_99_025_001_RDI.jpg',\n 86: '../Minstrel-Screens/C2019025/1/RMM3_01_429_ROBO_Test1_Clon1_C2_0000C2019025_001_201030_01_06_01_E0_99_025_001_RDI.jpg',\n 87: '../Minstrel-Screens/C2019025/1/RMM3_01_429_ROBO_Test1_Clon1_C2_0000C2019025_001_201030_09_07_01_E0_99_025_001_RDI.jpg',\n 88: '../Minstrel-Screens/C2019025/1/RMM3_01_429_ROBO_Test1_Clon1_C2_0000C2019025_001_201030_03_04_01_E0_99_025_001_RDI.jpg',\n 89: '../Minstrel-Screens/C2019025/1/RMM3_01_429_ROBO_Test1_Clon1_C2_0000C2019025_001_201030_07_07_01_E0_99_025_001_RDI.jpg',\n 90: '../Minstrel-Screens/C2019025/1/RMM3_01_429_ROBO_Test1_Clon1_C2_0000C2019025_001_201030_12_04_01_E0_99_025_001_RDI.jpg',\n 91: '../Minstrel-Screens/C2019025/1/RMM3_01_429_ROBO_Test1_Clon1_C2_0000C2019025_001_201030_06_05_01_E0_99_025_001_RDI.jpg',\n 92: '../Minstrel-Screens/C2019025/1/RMM3_01_429_ROBO_Test1_Clon1_C2_0000C2019025_001_201030_05_06_01_E0_99_025_001_RDI.jpg',\n 93: '../Minstrel-Screens/C2019025/1/RMM3_01_429_ROBO_Test1_Clon1_C2_0000C2019025_001_201030_07_06_01_E0_99_025_001_RDI.jpg',\n 94: '../Minstrel-Screens/C2019025/1/RMM3_01_429_ROBO_Test1_Clon1_C2_0000C2019025_001_201030_06_06_01_E0_99_025_001_RDI.jpg',\n 95: '../Minstrel-Screens/C2019025/1/RMM3_01_429_ROBO_Test1_Clon1_C2_0000C2019025_001_201030_07_08_01_E0_99_025_001_RDI.jpg'}"
     },
     "execution_count": 243,
     "metadata": {},
     "output_type": "execute_result"
    }
   ],
   "source": [
    "#Generate a dict of the well numbers and the image directories\n",
    "image_labels = wells['filepath'].to_dict()\n",
    "image_labels"
   ],
   "metadata": {
    "collapsed": false,
    "pycharm": {
     "name": "#%%\n"
    }
   }
  },
  {
   "cell_type": "code",
   "execution_count": 244,
   "outputs": [],
   "source": [
    "tfrecord_batch = wells[\"filepath\"].apply(lambda x: tfrecord_writer(x))"
   ],
   "metadata": {
    "collapsed": false,
    "pycharm": {
     "name": "#%%\n"
    }
   }
  },
  {
   "cell_type": "code",
   "execution_count": 245,
   "outputs": [],
   "source": [
    "#where to save it:\n",
    "record_file = '../test_images.tfrecords'"
   ],
   "metadata": {
    "collapsed": false,
    "pycharm": {
     "name": "#%%\n"
    }
   }
  },
  {
   "cell_type": "code",
   "execution_count": 246,
   "outputs": [
    {
     "name": "stdout",
     "output_type": "stream",
     "text": [
      "../Minstrel-Screens/C2019025/1/RMM3_01_429_ROBO_Test1_Clon1_C2_0000C2019025_001_201030_04_08_01_E0_99_025_001_RDI.jpg\n",
      "0\n",
      "../Minstrel-Screens/C2019025/1/RMM3_01_429_ROBO_Test1_Clon1_C2_0000C2019025_001_201030_05_08_01_E0_99_025_001_RDI.jpg\n",
      "1\n",
      "../Minstrel-Screens/C2019025/1/RMM3_01_429_ROBO_Test1_Clon1_C2_0000C2019025_001_201030_03_01_01_E0_99_025_001_RDI.jpg\n",
      "2\n",
      "../Minstrel-Screens/C2019025/1/RMM3_01_429_ROBO_Test1_Clon1_C2_0000C2019025_001_201030_03_03_01_E0_99_025_001_RDI.jpg\n",
      "3\n",
      "../Minstrel-Screens/C2019025/1/RMM3_01_429_ROBO_Test1_Clon1_C2_0000C2019025_001_201030_08_03_01_E0_99_025_001_RDI.jpg\n",
      "4\n",
      "../Minstrel-Screens/C2019025/1/RMM3_01_429_ROBO_Test1_Clon1_C2_0000C2019025_001_201030_02_08_01_E0_99_025_001_RDI.jpg\n",
      "5\n",
      "../Minstrel-Screens/C2019025/1/RMM3_01_429_ROBO_Test1_Clon1_C2_0000C2019025_001_201030_06_07_01_E0_99_025_001_RDI.jpg\n",
      "6\n",
      "../Minstrel-Screens/C2019025/1/RMM3_01_429_ROBO_Test1_Clon1_C2_0000C2019025_001_201030_10_08_01_E0_99_025_001_RDI.jpg\n",
      "7\n",
      "../Minstrel-Screens/C2019025/1/RMM3_01_429_ROBO_Test1_Clon1_C2_0000C2019025_001_201030_11_04_01_E0_99_025_001_RDI.jpg\n",
      "8\n",
      "../Minstrel-Screens/C2019025/1/RMM3_01_429_ROBO_Test1_Clon1_C2_0000C2019025_001_201030_11_07_01_E0_99_025_001_RDI.jpg\n",
      "9\n",
      "../Minstrel-Screens/C2019025/1/RMM3_01_429_ROBO_Test1_Clon1_C2_0000C2019025_001_201030_04_07_01_E0_99_025_001_RDI.jpg\n",
      "10\n",
      "../Minstrel-Screens/C2019025/1/RMM3_01_429_ROBO_Test1_Clon1_C2_0000C2019025_001_201030_01_05_01_E0_99_025_001_RDI.jpg\n",
      "11\n",
      "../Minstrel-Screens/C2019025/1/RMM3_01_429_ROBO_Test1_Clon1_C2_0000C2019025_001_201030_01_04_01_E0_99_025_001_RDI.jpg\n",
      "12\n",
      "../Minstrel-Screens/C2019025/1/RMM3_01_429_ROBO_Test1_Clon1_C2_0000C2019025_001_201030_05_05_01_E0_99_025_001_RDI.jpg\n",
      "13\n",
      "../Minstrel-Screens/C2019025/1/RMM3_01_429_ROBO_Test1_Clon1_C2_0000C2019025_001_201030_08_01_01_E0_99_025_001_RDI.jpg\n",
      "14\n",
      "../Minstrel-Screens/C2019025/1/RMM3_01_429_ROBO_Test1_Clon1_C2_0000C2019025_001_201030_06_01_01_E0_99_025_001_RDI.jpg\n",
      "15\n",
      "../Minstrel-Screens/C2019025/1/RMM3_01_429_ROBO_Test1_Clon1_C2_0000C2019025_001_201030_02_02_01_E0_99_025_001_RDI.jpg\n",
      "16\n",
      "../Minstrel-Screens/C2019025/1/RMM3_01_429_ROBO_Test1_Clon1_C2_0000C2019025_001_201030_07_03_01_E0_99_025_001_RDI.jpg\n",
      "17\n",
      "../Minstrel-Screens/C2019025/1/RMM3_01_429_ROBO_Test1_Clon1_C2_0000C2019025_001_201030_07_01_01_E0_99_025_001_RDI.jpg\n",
      "18\n",
      "../Minstrel-Screens/C2019025/1/RMM3_01_429_ROBO_Test1_Clon1_C2_0000C2019025_001_201030_03_07_01_E0_99_025_001_RDI.jpg\n",
      "19\n",
      "../Minstrel-Screens/C2019025/1/RMM3_01_429_ROBO_Test1_Clon1_C2_0000C2019025_001_201030_08_08_01_E0_99_025_001_RDI.jpg\n",
      "20\n",
      "../Minstrel-Screens/C2019025/1/RMM3_01_429_ROBO_Test1_Clon1_C2_0000C2019025_001_201030_07_04_01_E0_99_025_001_RDI.jpg\n",
      "21\n",
      "../Minstrel-Screens/C2019025/1/RMM3_01_429_ROBO_Test1_Clon1_C2_0000C2019025_001_201030_04_04_01_E0_99_025_001_RDI.jpg\n",
      "22\n",
      "../Minstrel-Screens/C2019025/1/RMM3_01_429_ROBO_Test1_Clon1_C2_0000C2019025_001_201030_09_04_01_E0_99_025_001_RDI.jpg\n",
      "23\n",
      "../Minstrel-Screens/C2019025/1/RMM3_01_429_ROBO_Test1_Clon1_C2_0000C2019025_001_201030_09_01_01_E0_99_025_001_RDI.jpg\n",
      "24\n",
      "../Minstrel-Screens/C2019025/1/RMM3_01_429_ROBO_Test1_Clon1_C2_0000C2019025_001_201030_04_02_01_E0_99_025_001_RDI.jpg\n",
      "25\n",
      "../Minstrel-Screens/C2019025/1/RMM3_01_429_ROBO_Test1_Clon1_C2_0000C2019025_001_201030_05_07_01_E0_99_025_001_RDI.jpg\n",
      "26\n",
      "../Minstrel-Screens/C2019025/1/RMM3_01_429_ROBO_Test1_Clon1_C2_0000C2019025_001_201030_02_01_01_E0_99_025_001_RDI.jpg\n",
      "27\n",
      "../Minstrel-Screens/C2019025/1/RMM3_01_429_ROBO_Test1_Clon1_C2_0000C2019025_001_201030_09_08_01_E0_99_025_001_RDI.jpg\n",
      "28\n",
      "../Minstrel-Screens/C2019025/1/RMM3_01_429_ROBO_Test1_Clon1_C2_0000C2019025_001_201030_04_06_01_E0_99_025_001_RDI.jpg\n",
      "29\n",
      "../Minstrel-Screens/C2019025/1/RMM3_01_429_ROBO_Test1_Clon1_C2_0000C2019025_001_201030_10_02_01_E0_99_025_001_RDI.jpg\n",
      "30\n",
      "../Minstrel-Screens/C2019025/1/RMM3_01_429_ROBO_Test1_Clon1_C2_0000C2019025_001_201030_02_04_01_E0_99_025_001_RDI.jpg\n",
      "31\n",
      "../Minstrel-Screens/C2019025/1/RMM3_01_429_ROBO_Test1_Clon1_C2_0000C2019025_001_201030_09_03_01_E0_99_025_001_RDI.jpg\n",
      "32\n",
      "../Minstrel-Screens/C2019025/1/RMM3_01_429_ROBO_Test1_Clon1_C2_0000C2019025_001_201030_06_04_01_E0_99_025_001_RDI.jpg\n",
      "33\n",
      "../Minstrel-Screens/C2019025/1/RMM3_01_429_ROBO_Test1_Clon1_C2_0000C2019025_001_201030_10_06_01_E0_99_025_001_RDI.jpg\n",
      "34\n",
      "../Minstrel-Screens/C2019025/1/RMM3_01_429_ROBO_Test1_Clon1_C2_0000C2019025_001_201030_10_04_01_E0_99_025_001_RDI.jpg\n",
      "35\n",
      "../Minstrel-Screens/C2019025/1/RMM3_01_429_ROBO_Test1_Clon1_C2_0000C2019025_001_201030_12_06_01_E0_99_025_001_RDI.jpg\n",
      "36\n",
      "../Minstrel-Screens/C2019025/1/RMM3_01_429_ROBO_Test1_Clon1_C2_0000C2019025_001_201030_09_06_01_E0_99_025_001_RDI.jpg\n",
      "37\n",
      "../Minstrel-Screens/C2019025/1/RMM3_01_429_ROBO_Test1_Clon1_C2_0000C2019025_001_201030_08_04_01_E0_99_025_001_RDI.jpg\n",
      "38\n",
      "../Minstrel-Screens/C2019025/1/RMM3_01_429_ROBO_Test1_Clon1_C2_0000C2019025_001_201030_03_05_01_E0_99_025_001_RDI.jpg\n",
      "39\n",
      "../Minstrel-Screens/C2019025/1/RMM3_01_429_ROBO_Test1_Clon1_C2_0000C2019025_001_201030_10_05_01_E0_99_025_001_RDI.jpg\n",
      "40\n",
      "../Minstrel-Screens/C2019025/1/RMM3_01_429_ROBO_Test1_Clon1_C2_0000C2019025_001_201030_04_03_01_E0_99_025_001_RDI.jpg\n",
      "41\n",
      "../Minstrel-Screens/C2019025/1/RMM3_01_429_ROBO_Test1_Clon1_C2_0000C2019025_001_201030_03_06_01_E0_99_025_001_RDI.jpg\n",
      "42\n",
      "../Minstrel-Screens/C2019025/1/RMM3_01_429_ROBO_Test1_Clon1_C2_0000C2019025_001_201030_08_05_01_E0_99_025_001_RDI.jpg\n",
      "43\n",
      "../Minstrel-Screens/C2019025/1/RMM3_01_429_ROBO_Test1_Clon1_C2_0000C2019025_001_201030_02_03_01_E0_99_025_001_RDI.jpg\n",
      "44\n",
      "../Minstrel-Screens/C2019025/1/RMM3_01_429_ROBO_Test1_Clon1_C2_0000C2019025_001_201030_08_07_01_E0_99_025_001_RDI.jpg\n",
      "45\n",
      "../Minstrel-Screens/C2019025/1/RMM3_01_429_ROBO_Test1_Clon1_C2_0000C2019025_001_201030_10_01_01_E0_99_025_001_RDI.jpg\n",
      "46\n",
      "../Minstrel-Screens/C2019025/1/RMM3_01_429_ROBO_Test1_Clon1_C2_0000C2019025_001_201030_06_02_01_E0_99_025_001_RDI.jpg\n",
      "47\n",
      "../Minstrel-Screens/C2019025/1/RMM3_01_429_ROBO_Test1_Clon1_C2_0000C2019025_001_201030_11_01_01_E0_99_025_001_RDI.jpg\n",
      "48\n",
      "../Minstrel-Screens/C2019025/1/RMM3_01_429_ROBO_Test1_Clon1_C2_0000C2019025_001_201030_12_01_01_E0_99_025_001_RDI.jpg\n",
      "49\n",
      "../Minstrel-Screens/C2019025/1/RMM3_01_429_ROBO_Test1_Clon1_C2_0000C2019025_001_201030_06_03_01_E0_99_025_001_RDI.jpg\n",
      "50\n",
      "../Minstrel-Screens/C2019025/1/RMM3_01_429_ROBO_Test1_Clon1_C2_0000C2019025_001_201030_01_08_01_E0_99_025_001_RDI.jpg\n",
      "51\n",
      "../Minstrel-Screens/C2019025/1/RMM3_01_429_ROBO_Test1_Clon1_C2_0000C2019025_001_201030_01_03_01_E0_99_025_001_RDI.jpg\n",
      "52\n",
      "../Minstrel-Screens/C2019025/1/RMM3_01_429_ROBO_Test1_Clon1_C2_0000C2019025_001_201030_03_08_01_E0_99_025_001_RDI.jpg\n",
      "53\n",
      "../Minstrel-Screens/C2019025/1/RMM3_01_429_ROBO_Test1_Clon1_C2_0000C2019025_001_201030_12_08_01_E0_99_025_001_RDI.jpg\n",
      "54\n",
      "../Minstrel-Screens/C2019025/1/RMM3_01_429_ROBO_Test1_Clon1_C2_0000C2019025_001_201030_12_03_01_E0_99_025_001_RDI.jpg\n",
      "55\n",
      "../Minstrel-Screens/C2019025/1/RMM3_01_429_ROBO_Test1_Clon1_C2_0000C2019025_001_201030_07_02_01_E0_99_025_001_RDI.jpg\n",
      "56\n",
      "../Minstrel-Screens/C2019025/1/RMM3_01_429_ROBO_Test1_Clon1_C2_0000C2019025_001_201030_05_03_01_E0_99_025_001_RDI.jpg\n",
      "57\n",
      "../Minstrel-Screens/C2019025/1/RMM3_01_429_ROBO_Test1_Clon1_C2_0000C2019025_001_201030_08_02_01_E0_99_025_001_RDI.jpg\n",
      "58\n",
      "../Minstrel-Screens/C2019025/1/RMM3_01_429_ROBO_Test1_Clon1_C2_0000C2019025_001_201030_11_05_01_E0_99_025_001_RDI.jpg\n",
      "59\n",
      "../Minstrel-Screens/C2019025/1/RMM3_01_429_ROBO_Test1_Clon1_C2_0000C2019025_001_201030_03_02_01_E0_99_025_001_RDI.jpg\n",
      "60\n",
      "../Minstrel-Screens/C2019025/1/RMM3_01_429_ROBO_Test1_Clon1_C2_0000C2019025_001_201030_07_05_01_E0_99_025_001_RDI.jpg\n",
      "61\n",
      "../Minstrel-Screens/C2019025/1/RMM3_01_429_ROBO_Test1_Clon1_C2_0000C2019025_001_201030_06_08_01_E0_99_025_001_RDI.jpg\n",
      "62\n",
      "../Minstrel-Screens/C2019025/1/RMM3_01_429_ROBO_Test1_Clon1_C2_0000C2019025_001_201030_11_03_01_E0_99_025_001_RDI.jpg\n",
      "63\n",
      "../Minstrel-Screens/C2019025/1/RMM3_01_429_ROBO_Test1_Clon1_C2_0000C2019025_001_201030_01_07_01_E0_99_025_001_RDI.jpg\n",
      "64\n",
      "../Minstrel-Screens/C2019025/1/RMM3_01_429_ROBO_Test1_Clon1_C2_0000C2019025_001_201030_01_01_01_E0_99_025_001_RDI.jpg\n",
      "65\n",
      "../Minstrel-Screens/C2019025/1/RMM3_01_429_ROBO_Test1_Clon1_C2_0000C2019025_001_201030_02_05_01_E0_99_025_001_RDI.jpg\n",
      "66\n",
      "../Minstrel-Screens/C2019025/1/RMM3_01_429_ROBO_Test1_Clon1_C2_0000C2019025_001_201030_09_05_01_E0_99_025_001_RDI.jpg\n",
      "67\n",
      "../Minstrel-Screens/C2019025/1/RMM3_01_429_ROBO_Test1_Clon1_C2_0000C2019025_001_201030_10_07_01_E0_99_025_001_RDI.jpg\n",
      "68\n",
      "../Minstrel-Screens/C2019025/1/RMM3_01_429_ROBO_Test1_Clon1_C2_0000C2019025_001_201030_11_02_01_E0_99_025_001_RDI.jpg\n",
      "69\n",
      "../Minstrel-Screens/C2019025/1/RMM3_01_429_ROBO_Test1_Clon1_C2_0000C2019025_001_201030_02_06_01_E0_99_025_001_RDI.jpg\n",
      "70\n",
      "../Minstrel-Screens/C2019025/1/RMM3_01_429_ROBO_Test1_Clon1_C2_0000C2019025_001_201030_05_02_01_E0_99_025_001_RDI.jpg\n",
      "71\n",
      "../Minstrel-Screens/C2019025/1/RMM3_01_429_ROBO_Test1_Clon1_C2_0000C2019025_001_201030_04_01_01_E0_99_025_001_RDI.jpg\n",
      "72\n",
      "../Minstrel-Screens/C2019025/1/RMM3_01_429_ROBO_Test1_Clon1_C2_0000C2019025_001_201030_04_05_01_E0_99_025_001_RDI.jpg\n",
      "73\n",
      "../Minstrel-Screens/C2019025/1/RMM3_01_429_ROBO_Test1_Clon1_C2_0000C2019025_001_201030_01_02_01_E0_99_025_001_RDI.jpg\n",
      "74\n",
      "../Minstrel-Screens/C2019025/1/RMM3_01_429_ROBO_Test1_Clon1_C2_0000C2019025_001_201030_02_07_01_E0_99_025_001_RDI.jpg\n",
      "75\n",
      "../Minstrel-Screens/C2019025/1/RMM3_01_429_ROBO_Test1_Clon1_C2_0000C2019025_001_201030_05_01_01_E0_99_025_001_RDI.jpg\n",
      "76\n",
      "../Minstrel-Screens/C2019025/1/RMM3_01_429_ROBO_Test1_Clon1_C2_0000C2019025_001_201030_11_06_01_E0_99_025_001_RDI.jpg\n",
      "77\n",
      "../Minstrel-Screens/C2019025/1/RMM3_01_429_ROBO_Test1_Clon1_C2_0000C2019025_001_201030_12_05_01_E0_99_025_001_RDI.jpg\n",
      "78\n",
      "../Minstrel-Screens/C2019025/1/RMM3_01_429_ROBO_Test1_Clon1_C2_0000C2019025_001_201030_08_06_01_E0_99_025_001_RDI.jpg\n",
      "79\n",
      "../Minstrel-Screens/C2019025/1/RMM3_01_429_ROBO_Test1_Clon1_C2_0000C2019025_001_201030_12_02_01_E0_99_025_001_RDI.jpg\n",
      "80\n",
      "../Minstrel-Screens/C2019025/1/RMM3_01_429_ROBO_Test1_Clon1_C2_0000C2019025_001_201030_09_02_01_E0_99_025_001_RDI.jpg\n",
      "81\n",
      "../Minstrel-Screens/C2019025/1/RMM3_01_429_ROBO_Test1_Clon1_C2_0000C2019025_001_201030_10_03_01_E0_99_025_001_RDI.jpg\n",
      "82\n",
      "../Minstrel-Screens/C2019025/1/RMM3_01_429_ROBO_Test1_Clon1_C2_0000C2019025_001_201030_05_04_01_E0_99_025_001_RDI.jpg\n",
      "83\n",
      "../Minstrel-Screens/C2019025/1/RMM3_01_429_ROBO_Test1_Clon1_C2_0000C2019025_001_201030_12_07_01_E0_99_025_001_RDI.jpg\n",
      "84\n",
      "../Minstrel-Screens/C2019025/1/RMM3_01_429_ROBO_Test1_Clon1_C2_0000C2019025_001_201030_11_08_01_E0_99_025_001_RDI.jpg\n",
      "85\n",
      "../Minstrel-Screens/C2019025/1/RMM3_01_429_ROBO_Test1_Clon1_C2_0000C2019025_001_201030_01_06_01_E0_99_025_001_RDI.jpg\n",
      "86\n",
      "../Minstrel-Screens/C2019025/1/RMM3_01_429_ROBO_Test1_Clon1_C2_0000C2019025_001_201030_09_07_01_E0_99_025_001_RDI.jpg\n",
      "87\n",
      "../Minstrel-Screens/C2019025/1/RMM3_01_429_ROBO_Test1_Clon1_C2_0000C2019025_001_201030_03_04_01_E0_99_025_001_RDI.jpg\n",
      "88\n",
      "../Minstrel-Screens/C2019025/1/RMM3_01_429_ROBO_Test1_Clon1_C2_0000C2019025_001_201030_07_07_01_E0_99_025_001_RDI.jpg\n",
      "89\n",
      "../Minstrel-Screens/C2019025/1/RMM3_01_429_ROBO_Test1_Clon1_C2_0000C2019025_001_201030_12_04_01_E0_99_025_001_RDI.jpg\n",
      "90\n",
      "../Minstrel-Screens/C2019025/1/RMM3_01_429_ROBO_Test1_Clon1_C2_0000C2019025_001_201030_06_05_01_E0_99_025_001_RDI.jpg\n",
      "91\n",
      "../Minstrel-Screens/C2019025/1/RMM3_01_429_ROBO_Test1_Clon1_C2_0000C2019025_001_201030_05_06_01_E0_99_025_001_RDI.jpg\n",
      "92\n",
      "../Minstrel-Screens/C2019025/1/RMM3_01_429_ROBO_Test1_Clon1_C2_0000C2019025_001_201030_07_06_01_E0_99_025_001_RDI.jpg\n",
      "93\n",
      "../Minstrel-Screens/C2019025/1/RMM3_01_429_ROBO_Test1_Clon1_C2_0000C2019025_001_201030_06_06_01_E0_99_025_001_RDI.jpg\n",
      "94\n",
      "../Minstrel-Screens/C2019025/1/RMM3_01_429_ROBO_Test1_Clon1_C2_0000C2019025_001_201030_07_08_01_E0_99_025_001_RDI.jpg\n",
      "95\n"
     ]
    }
   ],
   "source": [
    "#Write all the serialized images to file:\n",
    "with tf.io.TFRecordWriter(record_file) as writer:\n",
    "    for label, filename in image_labels.items():\n",
    "        print(filename)\n",
    "        print(label)\n",
    "        tf_example = tfrecord_writer(filename, label)\n",
    "    writer.write(tf_example.SerializeToString())"
   ],
   "metadata": {
    "collapsed": false,
    "pycharm": {
     "name": "#%%\n"
    }
   }
  },
  {
   "cell_type": "code",
   "source": [
    "pred_dataset = get_dataset(record_file, batch_size=BATCH_SIZE, im_size=IMAGE_SIZE)\n",
    "#Let's make sure we can read our files:\n",
    "raw_example = tf.data.TFRecordDataset(record_file)\n",
    "parsed_example = raw_example.map(lambda x: tf.io.parse_example(x, feature_description))\n",
    "\n",
    "#Read our training data from parsed_example into a real dataset:\n",
    "imlist = [] #Vectorized images\n",
    "label_list = [] #Machine-readable labels\n",
    "human_label_list = [] #Human-readable labels\n",
    "\n",
    "for n in parsed_example:\n",
    "  this_image = tf.io.decode_jpeg(n['image/encoded'].values.numpy()[0]) #Get image data from TFR\n",
    "  this_image = tf.cast(this_image, tf.int16) #Downsampling to int16\n",
    "  this_image = tf.image.resize_with_crop_or_pad(  #Downsampling by cropping to drop\n",
    "      this_image, 600,600\n",
    "      )\n",
    "  this_image = tf.image.resize(this_image, (IMAGE_SIZE[0], IMAGE_SIZE[1])) #Downsampling by resizing image\n",
    "  this_label = n['image/class/label'].values.numpy()[0] #Get image class number\n",
    "  this_human_label = n['image/class/text'].values.numpy()[0] #Get image class name\n",
    "\n",
    "  this_image = (np.array(this_image) / 255)\n",
    "  imlist.append(this_image)\n",
    "  label_list.append(this_label)\n",
    "  human_label_list.append(this_human_label)\n",
    "\n",
    "imlist = np.array(imlist)\n",
    "label_list = np.array(label_list)\n",
    "human_label_list = np.array(human_label_list)"
   ],
   "metadata": {
    "collapsed": false,
    "pycharm": {
     "name": "#%%\n"
    }
   },
   "execution_count": 249,
   "outputs": []
  },
  {
   "cell_type": "code",
   "execution_count": 5,
   "outputs": [
    {
     "data": {
      "text/plain": "'2020-12-13'"
     },
     "execution_count": 5,
     "metadata": {},
     "output_type": "execute_result"
    }
   ],
   "source": [
    "import datetime\n",
    "str(datetime.datetime.now().date())"
   ],
   "metadata": {
    "collapsed": false,
    "pycharm": {
     "name": "#%%\n"
    }
   }
  },
  {
   "cell_type": "code",
   "execution_count": null,
   "outputs": [],
   "source": [],
   "metadata": {
    "collapsed": false,
    "pycharm": {
     "name": "#%%\n"
    }
   }
  }
 ],
 "metadata": {
  "kernelspec": {
   "display_name": "Python 3",
   "language": "python",
   "name": "python3"
  },
  "language_info": {
   "codemirror_mode": {
    "name": "ipython",
    "version": 2
   },
   "file_extension": ".py",
   "mimetype": "text/x-python",
   "name": "python",
   "nbconvert_exporter": "python",
   "pygments_lexer": "ipython2",
   "version": "2.7.6"
  }
 },
 "nbformat": 4,
 "nbformat_minor": 0
}