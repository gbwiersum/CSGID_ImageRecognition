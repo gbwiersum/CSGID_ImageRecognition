{
 "cells": [
  {
   "cell_type": "code",
   "execution_count": 248,
   "outputs": [],
   "source": [
    "import keras\n",
    "from PIL import Image\n",
    "import pandas as pd\n",
    "import numpy as np\n",
    "import tensorflow as tf\n",
    "\n",
    "feature_description = {\n",
    "        \"image/height\": tf.io.VarLenFeature(tf.int64),  # image height in pixels\n",
    "        \"image/width\": tf.io.VarLenFeature(tf.int64),  # image width in pixels\n",
    "        \"image/colorspace\": tf.io.VarLenFeature(tf.string),  # specifying the colorspace, always 'RGB'\n",
    "        \"image/channels\": tf.io.VarLenFeature(tf.int64),  # specifying the number of channels, always 3\n",
    "        \"image/class/label\": tf.io.VarLenFeature(tf.int64),  # specifying the index in a normalized classification layer\n",
    "        \"image/class/raw\": tf.io.VarLenFeature(tf.int64),\n",
    "        # specifying the index in the raw (original) classification layer\n",
    "        \"image/class/source\": tf.io.VarLenFeature(tf.int64),\n",
    "        # specifying the index of the source (creator of the image)\n",
    "        \"image/class/text\": tf.io.VarLenFeature(tf.string),\n",
    "        # specifying the human-readable version of the normalized label\n",
    "        \"image/format\": tf.io.VarLenFeature(tf.string),  # specifying the format, always 'JPEG'\n",
    "        \"image/filename\": tf.io.VarLenFeature(tf.string),  # containing the basename of the image file\n",
    "        \"image/id\": tf.io.VarLenFeature(tf.string),  # specifying the unique id for the image\n",
    "        \"image/encoded\": tf.io.VarLenFeature(tf.string),  # containing JPEG encoded image in RGB colorspace\n",
    "    }\n",
    "\n",
    "model = keras.models.load_model('../Models/csgid-image-rec.h5')\n",
    "minstrel_dir = \"../Minstrel-Screens/*/*\"\n",
    "\n",
    "def image_preprocess(impath):\n",
    "    image = Image.open(impath)\n",
    "    crop_size = min(image.size)\n",
    "    left = (image.size[1]-crop_size)//2\n",
    "    right = image.size[1]-(image.size[1]-crop_size)//2\n",
    "    bottom = (image.size[0]-crop_size)//2\n",
    "    top = image.size[0]//2+crop_size//2\n",
    "    image = image.crop((left, bottom, right, top))\n",
    "    image = image.resize((299,299),Image.ANTIALIAS)\n",
    "    image = np.asarray(image)\n",
    "    return image\n",
    "\n",
    "def image_getter(plate_dir):\n",
    "    image_folders = glob.glob(plate_dir)\n",
    "    wells = pd.DataFrame(glob.glob(image_folders[1]+\"/*\"), columns = [\"filepath\"])\n",
    "    wells = wells[wells[\"filepath\"].str.contains(\"_E0_\")]\n",
    "    wells = wells.reset_index().drop(columns = \"index\")\n",
    "    #wells[\"image\"] = wells['filepath'].apply(lambda x: image_preprocess(x))\n",
    "    return wells\n",
    "\n",
    "def predict(image, classifier):\n",
    "    #for each image, load, resize and predict. (morphological?)\n",
    "    prediction = classifier.predict(image)\n",
    "    return prediction"
   ],
   "metadata": {
    "collapsed": false,
    "pycharm": {
     "name": "#%%\n"
    }
   }
  },
  {
   "cell_type": "code",
   "execution_count": 152,
   "outputs": [],
   "source": [
    "wells = image_getter(minstrel_dir)\n",
    "test_image = wells.iloc[0]['image']"
   ],
   "metadata": {
    "collapsed": false,
    "pycharm": {
     "name": "#%%\n"
    }
   }
  },
  {
   "cell_type": "code",
   "execution_count": 237,
   "outputs": [
    {
     "name": "stdout",
     "output_type": "stream",
     "text": [
      "Train Files:  2\n",
      "Test Files:  1\n"
     ]
    }
   ],
   "source": [
    "# Much of the code used here is based on: https://keras.io/examples/keras_recipes/tfrecord/\n",
    "from ImageRecognition.utils.DataGenerator import get_dataset\n",
    "from ImageRecognition.utils.Inceptionv4 import create_model\n",
    "import glob\n",
    "\n",
    "train_list = glob.glob('../train-jpg/*')[0:2]\n",
    "test_list = glob.glob('../test-jpg/*')[0:1]\n",
    "valid_list = test_list\n",
    "\n",
    "# Tuning and training params:\n",
    "BATCH_SIZE = 100\n",
    "IMAGE_SIZE = [100, 100, 3]\n",
    "\n",
    "print(\"Train Files: \", len(train_list))\n",
    "print(\"Test Files: \", len(test_list))\n",
    "\n",
    "train_dataset = get_dataset(train_list, batch_size=BATCH_SIZE, im_size=IMAGE_SIZE)\n",
    "valid_dataset = get_dataset(test_list, batch_size=BATCH_SIZE, im_size=IMAGE_SIZE)\n",
    "test_dataset = get_dataset(test_list, labeled=False, batch_size=BATCH_SIZE, im_size=IMAGE_SIZE)"
   ],
   "metadata": {
    "collapsed": false,
    "pycharm": {
     "name": "#%%\n"
    }
   }
  },
  {
   "cell_type": "code",
   "execution_count": 238,
   "outputs": [],
   "source": [
    "import matplotlib.pyplot as plt\n",
    "test_image, test_label = next(iter(valid_dataset))"
   ],
   "metadata": {
    "collapsed": false,
    "pycharm": {
     "name": "#%%\n"
    }
   }
  },
  {
   "cell_type": "code",
   "execution_count": 239,
   "outputs": [],
   "source": [
    "test_pred = model.predict(test_image)\n",
    "#plt.imshow(test_image[0].numpy()/255)"
   ],
   "metadata": {
    "collapsed": false,
    "pycharm": {
     "name": "#%%\n"
    }
   }
  },
  {
   "cell_type": "code",
   "execution_count": 240,
   "outputs": [
    {
     "data": {
      "text/plain": "array([0., 0., 0., 0., 0., 0., 0., 0., 0., 0., 0., 0., 0., 0., 1., 0., 0.,\n       1., 0., 1., 1., 0., 0., 0., 0., 0., 0., 1., 0., 0., 0., 0., 0., 0.,\n       0., 0., 0., 0., 0., 0., 0., 1., 1., 0., 0., 0., 0., 0., 0., 0., 0.,\n       0., 0., 1., 0., 0., 0., 0., 0., 0., 0., 0., 0., 0., 1., 0., 0., 0.,\n       0., 0., 0., 0., 0., 0., 0., 0., 0., 1., 0., 0., 0., 0., 0., 1., 0.,\n       0., 0., 0., 0., 0., 0., 0., 0., 0., 0., 0., 0., 0., 0., 0.],\n      dtype=float32)"
     },
     "execution_count": 240,
     "metadata": {},
     "output_type": "execute_result"
    }
   ],
   "source": [
    "test_label.numpy()"
   ],
   "metadata": {
    "collapsed": false,
    "pycharm": {
     "name": "#%%\n"
    }
   }
  },
  {
   "cell_type": "code",
   "execution_count": 241,
   "outputs": [
    {
     "data": {
      "text/plain": "array([[0.12766936],\n       [0.12766936],\n       [0.12766936],\n       [0.12766936],\n       [0.12766936],\n       [0.12766936],\n       [0.12766936],\n       [0.12766936],\n       [0.12766936],\n       [0.12766936],\n       [0.12766936],\n       [0.12766936],\n       [0.12766936],\n       [0.12766936],\n       [0.12766936],\n       [0.12766936],\n       [0.12766936],\n       [0.12766936],\n       [0.12766936],\n       [0.12766936],\n       [0.12766936],\n       [0.12766936],\n       [0.12766936],\n       [0.12766936],\n       [0.12766936],\n       [0.12766936],\n       [0.12766936],\n       [0.12766936],\n       [0.12766936],\n       [0.12766936],\n       [0.12766936],\n       [0.12766936],\n       [0.12766936],\n       [0.12766936],\n       [0.12766936],\n       [0.12766936],\n       [0.12766936],\n       [0.12766936],\n       [0.12766936],\n       [0.12766936],\n       [0.12766936],\n       [0.12766936],\n       [0.12766936],\n       [0.12766936],\n       [0.12766936],\n       [0.12766936],\n       [0.12766936],\n       [0.12766936],\n       [0.12766936],\n       [0.12766936],\n       [0.12766936],\n       [0.12766936],\n       [0.12766936],\n       [0.12766936],\n       [0.12766936],\n       [0.12766936],\n       [0.12766936],\n       [0.12766936],\n       [0.12766936],\n       [0.12766936],\n       [0.12766936],\n       [0.12766936],\n       [0.12766936],\n       [0.12766936],\n       [0.12766936],\n       [0.12766936],\n       [0.12766936],\n       [0.12766936],\n       [0.12766936],\n       [0.12766936],\n       [0.12766936],\n       [0.12766936],\n       [0.12766936],\n       [0.12766936],\n       [0.12766936],\n       [0.12766936],\n       [0.12766936],\n       [0.12766936],\n       [0.12766936],\n       [0.12766936],\n       [0.12766936],\n       [0.12766936],\n       [0.12766936],\n       [0.12766936],\n       [0.12766936],\n       [0.12766936],\n       [0.12766936],\n       [0.12766936],\n       [0.12766936],\n       [0.12766936],\n       [0.12766936],\n       [0.12766936],\n       [0.12766936],\n       [0.12766936],\n       [0.12766936],\n       [0.12766936],\n       [0.12766936],\n       [0.12766936],\n       [0.12766936],\n       [0.12766936]], dtype=float32)"
     },
     "execution_count": 241,
     "metadata": {},
     "output_type": "execute_result"
    }
   ],
   "source": [
    "test_pred\n"
   ],
   "metadata": {
    "collapsed": false,
    "pycharm": {
     "name": "#%%\n"
    }
   }
  },
  {
   "cell_type": "code",
   "execution_count": 242,
   "outputs": [],
   "source": [
    "# The following functions can be used to convert a value to a type compatible\n",
    "# with tf.train.Example.\n",
    "\n",
    "def _bytes_feature(value):\n",
    "  \"\"\"Returns a bytes_list from a string / byte.\"\"\"\n",
    "  if isinstance(value, type(tf.constant(0))):\n",
    "    value = value.numpy() # BytesList won't unpack a string from an EagerTensor.\n",
    "  return tf.train.Feature(bytes_list=tf.train.BytesList(value=[value]))\n",
    "\n",
    "def _float_feature(value):\n",
    "  \"\"\"Returns a float_list from a float / double.\"\"\"\n",
    "  return tf.train.Feature(float_list=tf.train.FloatList(value=[value]))\n",
    "\n",
    "def _int64_feature(value):\n",
    "  \"\"\"Returns an int64_list from a bool / enum / int / uint.\"\"\"\n",
    "  return tf.train.Feature(int64_list=tf.train.Int64List(value=[value]))\n",
    "\n",
    "def tfrecord_writer(filepath, label=5):\n",
    "    image_string = open(filepath, 'rb').read()\n",
    "    image_shape = tf.image.decode_jpeg(image_string).shape\n",
    "    label = label\n",
    "    feature = {\n",
    "        \"image/height\": _int64_feature(image_shape[0]),  # image height in pixels\n",
    "        \"image/width\": _int64_feature(image_shape[1]),  # image width in pixels\n",
    "        \"image/colorspace\": _bytes_feature(bytes('RGB', encoding='utf8')),  # specifying the colorspace, always 'RGB'\n",
    "        \"image/channels\": _int64_feature(3),  # specifying the number of channels, always 3\n",
    "        \"image/class/label\": _int64_feature(label),  # specifying the index in a normalized classification layer\n",
    "        \"image/class/raw\": _int64_feature(label),\n",
    "        # specifying the index in the raw (original) classification layer\n",
    "        \"image/class/source\": _int64_feature(5),\n",
    "        # specifying the index of the source (creator of the image) - CSGID = 5\n",
    "        \"image/class/text\": _bytes_feature(bytes(label)),\n",
    "        # specifying the human-readable version of the normalized label\n",
    "        \"image/format\": _bytes_feature(bytes(\"JPEG\", encoding='utf8')),  # specifying the format, always 'JPEG'\n",
    "        \"image/filename\": _bytes_feature(bytes(filepath, encoding='utf8' )),  # containing the basename of the image file\n",
    "        \"image/id\": _bytes_feature(bytes(filepath, encoding='utf8')),  # specifying the unique id for the image\n",
    "        \"image/encoded\": _bytes_feature(image_string),  # containing JPEG encoded image in RGB colorspace\n",
    "\n",
    "    }\n",
    "    return tf.train.Example(features=tf.train.Features(feature=feature))"
   ],
   "metadata": {
    "collapsed": false,
    "pycharm": {
     "name": "#%%\n"
    }
   }
  },
  {
   "cell_type": "code",
   "execution_count": 243,
   "outputs": [
    {
     "data": {
      "text/plain": "{0: '../Minstrel-Screens/C2019025/1/RMM3_01_429_ROBO_Test1_Clon1_C2_0000C2019025_001_201030_04_08_01_E0_99_025_001_RDI.jpg',\n 1: '../Minstrel-Screens/C2019025/1/RMM3_01_429_ROBO_Test1_Clon1_C2_0000C2019025_001_201030_05_08_01_E0_99_025_001_RDI.jpg',\n 2: '../Minstrel-Screens/C2019025/1/RMM3_01_429_ROBO_Test1_Clon1_C2_0000C2019025_001_201030_03_01_01_E0_99_025_001_RDI.jpg',\n 3: '../Minstrel-Screens/C2019025/1/RMM3_01_429_ROBO_Test1_Clon1_C2_0000C2019025_001_201030_03_03_01_E0_99_025_001_RDI.jpg',\n 4: '../Minstrel-Screens/C2019025/1/RMM3_01_429_ROBO_Test1_Clon1_C2_0000C2019025_001_201030_08_03_01_E0_99_025_001_RDI.jpg',\n 5: '../Minstrel-Screens/C2019025/1/RMM3_01_429_ROBO_Test1_Clon1_C2_0000C2019025_001_201030_02_08_01_E0_99_025_001_RDI.jpg',\n 6: '../Minstrel-Screens/C2019025/1/RMM3_01_429_ROBO_Test1_Clon1_C2_0000C2019025_001_201030_06_07_01_E0_99_025_001_RDI.jpg',\n 7: '../Minstrel-Screens/C2019025/1/RMM3_01_429_ROBO_Test1_Clon1_C2_0000C2019025_001_201030_10_08_01_E0_99_025_001_RDI.jpg',\n 8: '../Minstrel-Screens/C2019025/1/RMM3_01_429_ROBO_Test1_Clon1_C2_0000C2019025_001_201030_11_04_01_E0_99_025_001_RDI.jpg',\n 9: '../Minstrel-Screens/C2019025/1/RMM3_01_429_ROBO_Test1_Clon1_C2_0000C2019025_001_201030_11_07_01_E0_99_025_001_RDI.jpg',\n 10: '../Minstrel-Screens/C2019025/1/RMM3_01_429_ROBO_Test1_Clon1_C2_0000C2019025_001_201030_04_07_01_E0_99_025_001_RDI.jpg',\n 11: '../Minstrel-Screens/C2019025/1/RMM3_01_429_ROBO_Test1_Clon1_C2_0000C2019025_001_201030_01_05_01_E0_99_025_001_RDI.jpg',\n 12: '../Minstrel-Screens/C2019025/1/RMM3_01_429_ROBO_Test1_Clon1_C2_0000C2019025_001_201030_01_04_01_E0_99_025_001_RDI.jpg',\n 13: '../Minstrel-Screens/C2019025/1/RMM3_01_429_ROBO_Test1_Clon1_C2_0000C2019025_001_201030_05_05_01_E0_99_025_001_RDI.jpg',\n 14: '../Minstrel-Screens/C2019025/1/RMM3_01_429_ROBO_Test1_Clon1_C2_0000C2019025_001_201030_08_01_01_E0_99_025_001_RDI.jpg',\n 15: '../Minstrel-Screens/C2019025/1/RMM3_01_429_ROBO_Test1_Clon1_C2_0000C2019025_001_201030_06_01_01_E0_99_025_001_RDI.jpg',\n 16: '../Minstrel-Screens/C2019025/1/RMM3_01_429_ROBO_Test1_Clon1_C2_0000C2019025_001_201030_02_02_01_E0_99_025_001_RDI.jpg',\n 17: '../Minstrel-Screens/C2019025/1/RMM3_01_429_ROBO_Test1_Clon1_C2_0000C2019025_001_201030_07_03_01_E0_99_025_001_RDI.jpg',\n 18: '../Minstrel-Screens/C2019025/1/RMM3_01_429_ROBO_Test1_Clon1_C2_0000C2019025_001_201030_07_01_01_E0_99_025_001_RDI.jpg',\n 19: '../Minstrel-Screens/C2019025/1/RMM3_01_429_ROBO_Test1_Clon1_C2_0000C2019025_001_201030_03_07_01_E0_99_025_001_RDI.jpg',\n 20: '../Minstrel-Screens/C2019025/1/RMM3_01_429_ROBO_Test1_Clon1_C2_0000C2019025_001_201030_08_08_01_E0_99_025_001_RDI.jpg',\n 21: '../Minstrel-Screens/C2019025/1/RMM3_01_429_ROBO_Test1_Clon1_C2_0000C2019025_001_201030_07_04_01_E0_99_025_001_RDI.jpg',\n 22: '../Minstrel-Screens/C2019025/1/RMM3_01_429_ROBO_Test1_Clon1_C2_0000C2019025_001_201030_04_04_01_E0_99_025_001_RDI.jpg',\n 23: '../Minstrel-Screens/C2019025/1/RMM3_01_429_ROBO_Test1_Clon1_C2_0000C2019025_001_201030_09_04_01_E0_99_025_001_RDI.jpg',\n 24: '../Minstrel-Screens/C2019025/1/RMM3_01_429_ROBO_Test1_Clon1_C2_0000C2019025_001_201030_09_01_01_E0_99_025_001_RDI.jpg',\n 25: '../Minstrel-Screens/C2019025/1/RMM3_01_429_ROBO_Test1_Clon1_C2_0000C2019025_001_201030_04_02_01_E0_99_025_001_RDI.jpg',\n 26: '../Minstrel-Screens/C2019025/1/RMM3_01_429_ROBO_Test1_Clon1_C2_0000C2019025_001_201030_05_07_01_E0_99_025_001_RDI.jpg',\n 27: '../Minstrel-Screens/C2019025/1/RMM3_01_429_ROBO_Test1_Clon1_C2_0000C2019025_001_201030_02_01_01_E0_99_025_001_RDI.jpg',\n 28: '../Minstrel-Screens/C2019025/1/RMM3_01_429_ROBO_Test1_Clon1_C2_0000C2019025_001_201030_09_08_01_E0_99_025_001_RDI.jpg',\n 29: '../Minstrel-Screens/C2019025/1/RMM3_01_429_ROBO_Test1_Clon1_C2_0000C2019025_001_201030_04_06_01_E0_99_025_001_RDI.jpg',\n 30: '../Minstrel-Screens/C2019025/1/RMM3_01_429_ROBO_Test1_Clon1_C2_0000C2019025_001_201030_10_02_01_E0_99_025_001_RDI.jpg',\n 31: '../Minstrel-Screens/C2019025/1/RMM3_01_429_ROBO_Test1_Clon1_C2_0000C2019025_001_201030_02_04_01_E0_99_025_001_RDI.jpg',\n 32: '../Minstrel-Screens/C2019025/1/RMM3_01_429_ROBO_Test1_Clon1_C2_0000C2019025_001_201030_09_03_01_E0_99_025_001_RDI.jpg',\n 33: '../Minstrel-Screens/C2019025/1/RMM3_01_429_ROBO_Test1_Clon1_C2_0000C2019025_001_201030_06_04_01_E0_99_025_001_RDI.jpg',\n 34: '../Minstrel-Screens/C2019025/1/RMM3_01_429_ROBO_Test1_Clon1_C2_0000C2019025_001_201030_10_06_01_E0_99_025_001_RDI.jpg',\n 35: '../Minstrel-Screens/C2019025/1/RMM3_01_429_ROBO_Test1_Clon1_C2_0000C2019025_001_201030_10_04_01_E0_99_025_001_RDI.jpg',\n 36: '../Minstrel-Screens/C2019025/1/RMM3_01_429_ROBO_Test1_Clon1_C2_0000C2019025_001_201030_12_06_01_E0_99_025_001_RDI.jpg',\n 37: '../Minstrel-Screens/C2019025/1/RMM3_01_429_ROBO_Test1_Clon1_C2_0000C2019025_001_201030_09_06_01_E0_99_025_001_RDI.jpg',\n 38: '../Minstrel-Screens/C2019025/1/RMM3_01_429_ROBO_Test1_Clon1_C2_0000C2019025_001_201030_08_04_01_E0_99_025_001_RDI.jpg',\n 39: '../Minstrel-Screens/C2019025/1/RMM3_01_429_ROBO_Test1_Clon1_C2_0000C2019025_001_201030_03_05_01_E0_99_025_001_RDI.jpg',\n 40: '../Minstrel-Screens/C2019025/1/RMM3_01_429_ROBO_Test1_Clon1_C2_0000C2019025_001_201030_10_05_01_E0_99_025_001_RDI.jpg',\n 41: '../Minstrel-Screens/C2019025/1/RMM3_01_429_ROBO_Test1_Clon1_C2_0000C2019025_001_201030_04_03_01_E0_99_025_001_RDI.jpg',\n 42: '../Minstrel-Screens/C2019025/1/RMM3_01_429_ROBO_Test1_Clon1_C2_0000C2019025_001_201030_03_06_01_E0_99_025_001_RDI.jpg',\n 43: '../Minstrel-Screens/C2019025/1/RMM3_01_429_ROBO_Test1_Clon1_C2_0000C2019025_001_201030_08_05_01_E0_99_025_001_RDI.jpg',\n 44: '../Minstrel-Screens/C2019025/1/RMM3_01_429_ROBO_Test1_Clon1_C2_0000C2019025_001_201030_02_03_01_E0_99_025_001_RDI.jpg',\n 45: '../Minstrel-Screens/C2019025/1/RMM3_01_429_ROBO_Test1_Clon1_C2_0000C2019025_001_201030_08_07_01_E0_99_025_001_RDI.jpg',\n 46: '../Minstrel-Screens/C2019025/1/RMM3_01_429_ROBO_Test1_Clon1_C2_0000C2019025_001_201030_10_01_01_E0_99_025_001_RDI.jpg',\n 47: '../Minstrel-Screens/C2019025/1/RMM3_01_429_ROBO_Test1_Clon1_C2_0000C2019025_001_201030_06_02_01_E0_99_025_001_RDI.jpg',\n 48: '../Minstrel-Screens/C2019025/1/RMM3_01_429_ROBO_Test1_Clon1_C2_0000C2019025_001_201030_11_01_01_E0_99_025_001_RDI.jpg',\n 49: '../Minstrel-Screens/C2019025/1/RMM3_01_429_ROBO_Test1_Clon1_C2_0000C2019025_001_201030_12_01_01_E0_99_025_001_RDI.jpg',\n 50: '../Minstrel-Screens/C2019025/1/RMM3_01_429_ROBO_Test1_Clon1_C2_0000C2019025_001_201030_06_03_01_E0_99_025_001_RDI.jpg',\n 51: '../Minstrel-Screens/C2019025/1/RMM3_01_429_ROBO_Test1_Clon1_C2_0000C2019025_001_201030_01_08_01_E0_99_025_001_RDI.jpg',\n 52: '../Minstrel-Screens/C2019025/1/RMM3_01_429_ROBO_Test1_Clon1_C2_0000C2019025_001_201030_01_03_01_E0_99_025_001_RDI.jpg',\n 53: '../Minstrel-Screens/C2019025/1/RMM3_01_429_ROBO_Test1_Clon1_C2_0000C2019025_001_201030_03_08_01_E0_99_025_001_RDI.jpg',\n 54: '../Minstrel-Screens/C2019025/1/RMM3_01_429_ROBO_Test1_Clon1_C2_0000C2019025_001_201030_12_08_01_E0_99_025_001_RDI.jpg',\n 55: '../Minstrel-Screens/C2019025/1/RMM3_01_429_ROBO_Test1_Clon1_C2_0000C2019025_001_201030_12_03_01_E0_99_025_001_RDI.jpg',\n 56: '../Minstrel-Screens/C2019025/1/RMM3_01_429_ROBO_Test1_Clon1_C2_0000C2019025_001_201030_07_02_01_E0_99_025_001_RDI.jpg',\n 57: '../Minstrel-Screens/C2019025/1/RMM3_01_429_ROBO_Test1_Clon1_C2_0000C2019025_001_201030_05_03_01_E0_99_025_001_RDI.jpg',\n 58: '../Minstrel-Screens/C2019025/1/RMM3_01_429_ROBO_Test1_Clon1_C2_0000C2019025_001_201030_08_02_01_E0_99_025_001_RDI.jpg',\n 59: '../Minstrel-Screens/C2019025/1/RMM3_01_429_ROBO_Test1_Clon1_C2_0000C2019025_001_201030_11_05_01_E0_99_025_001_RDI.jpg',\n 60: '../Minstrel-Screens/C2019025/1/RMM3_01_429_ROBO_Test1_Clon1_C2_0000C2019025_001_201030_03_02_01_E0_99_025_001_RDI.jpg',\n 61: '../Minstrel-Screens/C2019025/1/RMM3_01_429_ROBO_Test1_Clon1_C2_0000C2019025_001_201030_07_05_01_E0_99_025_001_RDI.jpg',\n 62: '../Minstrel-Screens/C2019025/1/RMM3_01_429_ROBO_Test1_Clon1_C2_0000C2019025_001_201030_06_08_01_E0_99_025_001_RDI.jpg',\n 63: '../Minstrel-Screens/C2019025/1/RMM3_01_429_ROBO_Test1_Clon1_C2_0000C2019025_001_201030_11_03_01_E0_99_025_001_RDI.jpg',\n 64: '../Minstrel-Screens/C2019025/1/RMM3_01_429_ROBO_Test1_Clon1_C2_0000C2019025_001_201030_01_07_01_E0_99_025_001_RDI.jpg',\n 65: '../Minstrel-Screens/C2019025/1/RMM3_01_429_ROBO_Test1_Clon1_C2_0000C2019025_001_201030_01_01_01_E0_99_025_001_RDI.jpg',\n 66: '../Minstrel-Screens/C2019025/1/RMM3_01_429_ROBO_Test1_Clon1_C2_0000C2019025_001_201030_02_05_01_E0_99_025_001_RDI.jpg',\n 67: '../Minstrel-Screens/C2019025/1/RMM3_01_429_ROBO_Test1_Clon1_C2_0000C2019025_001_201030_09_05_01_E0_99_025_001_RDI.jpg',\n 68: '../Minstrel-Screens/C2019025/1/RMM3_01_429_ROBO_Test1_Clon1_C2_0000C2019025_001_201030_10_07_01_E0_99_025_001_RDI.jpg',\n 69: '../Minstrel-Screens/C2019025/1/RMM3_01_429_ROBO_Test1_Clon1_C2_0000C2019025_001_201030_11_02_01_E0_99_025_001_RDI.jpg',\n 70: '../Minstrel-Screens/C2019025/1/RMM3_01_429_ROBO_Test1_Clon1_C2_0000C2019025_001_201030_02_06_01_E0_99_025_001_RDI.jpg',\n 71: '../Minstrel-Screens/C2019025/1/RMM3_01_429_ROBO_Test1_Clon1_C2_0000C2019025_001_201030_05_02_01_E0_99_025_001_RDI.jpg',\n 72: '../Minstrel-Screens/C2019025/1/RMM3_01_429_ROBO_Test1_Clon1_C2_0000C2019025_001_201030_04_01_01_E0_99_025_001_RDI.jpg',\n 73: '../Minstrel-Screens/C2019025/1/RMM3_01_429_ROBO_Test1_Clon1_C2_0000C2019025_001_201030_04_05_01_E0_99_025_001_RDI.jpg',\n 74: '../Minstrel-Screens/C2019025/1/RMM3_01_429_ROBO_Test1_Clon1_C2_0000C2019025_001_201030_01_02_01_E0_99_025_001_RDI.jpg',\n 75: '../Minstrel-Screens/C2019025/1/RMM3_01_429_ROBO_Test1_Clon1_C2_0000C2019025_001_201030_02_07_01_E0_99_025_001_RDI.jpg',\n 76: '../Minstrel-Screens/C2019025/1/RMM3_01_429_ROBO_Test1_Clon1_C2_0000C2019025_001_201030_05_01_01_E0_99_025_001_RDI.jpg',\n 77: '../Minstrel-Screens/C2019025/1/RMM3_01_429_ROBO_Test1_Clon1_C2_0000C2019025_001_201030_11_06_01_E0_99_025_001_RDI.jpg',\n 78: '../Minstrel-Screens/C2019025/1/RMM3_01_429_ROBO_Test1_Clon1_C2_0000C2019025_001_201030_12_05_01_E0_99_025_001_RDI.jpg',\n 79: '../Minstrel-Screens/C2019025/1/RMM3_01_429_ROBO_Test1_Clon1_C2_0000C2019025_001_201030_08_06_01_E0_99_025_001_RDI.jpg',\n 80: '../Minstrel-Screens/C2019025/1/RMM3_01_429_ROBO_Test1_Clon1_C2_0000C2019025_001_201030_12_02_01_E0_99_025_001_RDI.jpg',\n 81: '../Minstrel-Screens/C2019025/1/RMM3_01_429_ROBO_Test1_Clon1_C2_0000C2019025_001_201030_09_02_01_E0_99_025_001_RDI.jpg',\n 82: '../Minstrel-Screens/C2019025/1/RMM3_01_429_ROBO_Test1_Clon1_C2_0000C2019025_001_201030_10_03_01_E0_99_025_001_RDI.jpg',\n 83: '../Minstrel-Screens/C2019025/1/RMM3_01_429_ROBO_Test1_Clon1_C2_0000C2019025_001_201030_05_04_01_E0_99_025_001_RDI.jpg',\n 84: '../Minstrel-Screens/C2019025/1/RMM3_01_429_ROBO_Test1_Clon1_C2_0000C2019025_001_201030_12_07_01_E0_99_025_001_RDI.jpg',\n 85: '../Minstrel-Screens/C2019025/1/RMM3_01_429_ROBO_Test1_Clon1_C2_0000C2019025_001_201030_11_08_01_E0_99_025_001_RDI.jpg',\n 86: '../Minstrel-Screens/C2019025/1/RMM3_01_429_ROBO_Test1_Clon1_C2_0000C2019025_001_201030_01_06_01_E0_99_025_001_RDI.jpg',\n 87: '../Minstrel-Screens/C2019025/1/RMM3_01_429_ROBO_Test1_Clon1_C2_0000C2019025_001_201030_09_07_01_E0_99_025_001_RDI.jpg',\n 88: '../Minstrel-Screens/C2019025/1/RMM3_01_429_ROBO_Test1_Clon1_C2_0000C2019025_001_201030_03_04_01_E0_99_025_001_RDI.jpg',\n 89: '../Minstrel-Screens/C2019025/1/RMM3_01_429_ROBO_Test1_Clon1_C2_0000C2019025_001_201030_07_07_01_E0_99_025_001_RDI.jpg',\n 90: '../Minstrel-Screens/C2019025/1/RMM3_01_429_ROBO_Test1_Clon1_C2_0000C2019025_001_201030_12_04_01_E0_99_025_001_RDI.jpg',\n 91: '../Minstrel-Screens/C2019025/1/RMM3_01_429_ROBO_Test1_Clon1_C2_0000C2019025_001_201030_06_05_01_E0_99_025_001_RDI.jpg',\n 92: '../Minstrel-Screens/C2019025/1/RMM3_01_429_ROBO_Test1_Clon1_C2_0000C2019025_001_201030_05_06_01_E0_99_025_001_RDI.jpg',\n 93: '../Minstrel-Screens/C2019025/1/RMM3_01_429_ROBO_Test1_Clon1_C2_0000C2019025_001_201030_07_06_01_E0_99_025_001_RDI.jpg',\n 94: '../Minstrel-Screens/C2019025/1/RMM3_01_429_ROBO_Test1_Clon1_C2_0000C2019025_001_201030_06_06_01_E0_99_025_001_RDI.jpg',\n 95: '../Minstrel-Screens/C2019025/1/RMM3_01_429_ROBO_Test1_Clon1_C2_0000C2019025_001_201030_07_08_01_E0_99_025_001_RDI.jpg'}"
     },
     "execution_count": 243,
     "metadata": {},
     "output_type": "execute_result"
    }
   ],
   "source": [
    "#Generate a dict of the well numbers and the image directories\n",
    "image_labels = wells['filepath'].to_dict()\n",
    "image_labels"
   ],
   "metadata": {
    "collapsed": false,
    "pycharm": {
     "name": "#%%\n"
    }
   }
  },
  {
   "cell_type": "code",
   "execution_count": 244,
   "outputs": [],
   "source": [
    "tfrecord_batch = wells[\"filepath\"].apply(lambda x: tfrecord_writer(x))"
   ],
   "metadata": {
    "collapsed": false,
    "pycharm": {
     "name": "#%%\n"
    }
   }
  },
  {
   "cell_type": "code",
   "execution_count": 245,
   "outputs": [],
   "source": [
    "#where to save it:\n",
    "record_file = '../test_images.tfrecords'"
   ],
   "metadata": {
    "collapsed": false,
    "pycharm": {
     "name": "#%%\n"
    }
   }
  },
  {
   "cell_type": "code",
   "execution_count": 246,
   "outputs": [
    {
     "name": "stdout",
     "output_type": "stream",
     "text": [
      "../Minstrel-Screens/C2019025/1/RMM3_01_429_ROBO_Test1_Clon1_C2_0000C2019025_001_201030_04_08_01_E0_99_025_001_RDI.jpg\n",
      "0\n",
      "../Minstrel-Screens/C2019025/1/RMM3_01_429_ROBO_Test1_Clon1_C2_0000C2019025_001_201030_05_08_01_E0_99_025_001_RDI.jpg\n",
      "1\n",
      "../Minstrel-Screens/C2019025/1/RMM3_01_429_ROBO_Test1_Clon1_C2_0000C2019025_001_201030_03_01_01_E0_99_025_001_RDI.jpg\n",
      "2\n",
      "../Minstrel-Screens/C2019025/1/RMM3_01_429_ROBO_Test1_Clon1_C2_0000C2019025_001_201030_03_03_01_E0_99_025_001_RDI.jpg\n",
      "3\n",
      "../Minstrel-Screens/C2019025/1/RMM3_01_429_ROBO_Test1_Clon1_C2_0000C2019025_001_201030_08_03_01_E0_99_025_001_RDI.jpg\n",
      "4\n",
      "../Minstrel-Screens/C2019025/1/RMM3_01_429_ROBO_Test1_Clon1_C2_0000C2019025_001_201030_02_08_01_E0_99_025_001_RDI.jpg\n",
      "5\n",
      "../Minstrel-Screens/C2019025/1/RMM3_01_429_ROBO_Test1_Clon1_C2_0000C2019025_001_201030_06_07_01_E0_99_025_001_RDI.jpg\n",
      "6\n",
      "../Minstrel-Screens/C2019025/1/RMM3_01_429_ROBO_Test1_Clon1_C2_0000C2019025_001_201030_10_08_01_E0_99_025_001_RDI.jpg\n",
      "7\n",
      "../Minstrel-Screens/C2019025/1/RMM3_01_429_ROBO_Test1_Clon1_C2_0000C2019025_001_201030_11_04_01_E0_99_025_001_RDI.jpg\n",
      "8\n",
      "../Minstrel-Screens/C2019025/1/RMM3_01_429_ROBO_Test1_Clon1_C2_0000C2019025_001_201030_11_07_01_E0_99_025_001_RDI.jpg\n",
      "9\n",
      "../Minstrel-Screens/C2019025/1/RMM3_01_429_ROBO_Test1_Clon1_C2_0000C2019025_001_201030_04_07_01_E0_99_025_001_RDI.jpg\n",
      "10\n",
      "../Minstrel-Screens/C2019025/1/RMM3_01_429_ROBO_Test1_Clon1_C2_0000C2019025_001_201030_01_05_01_E0_99_025_001_RDI.jpg\n",
      "11\n",
      "../Minstrel-Screens/C2019025/1/RMM3_01_429_ROBO_Test1_Clon1_C2_0000C2019025_001_201030_01_04_01_E0_99_025_001_RDI.jpg\n",
      "12\n",
      "../Minstrel-Screens/C2019025/1/RMM3_01_429_ROBO_Test1_Clon1_C2_0000C2019025_001_201030_05_05_01_E0_99_025_001_RDI.jpg\n",
      "13\n",
      "../Minstrel-Screens/C2019025/1/RMM3_01_429_ROBO_Test1_Clon1_C2_0000C2019025_001_201030_08_01_01_E0_99_025_001_RDI.jpg\n",
      "14\n",
      "../Minstrel-Screens/C2019025/1/RMM3_01_429_ROBO_Test1_Clon1_C2_0000C2019025_001_201030_06_01_01_E0_99_025_001_RDI.jpg\n",
      "15\n",
      "../Minstrel-Screens/C2019025/1/RMM3_01_429_ROBO_Test1_Clon1_C2_0000C2019025_001_201030_02_02_01_E0_99_025_001_RDI.jpg\n",
      "16\n",
      "../Minstrel-Screens/C2019025/1/RMM3_01_429_ROBO_Test1_Clon1_C2_0000C2019025_001_201030_07_03_01_E0_99_025_001_RDI.jpg\n",
      "17\n",
      "../Minstrel-Screens/C2019025/1/RMM3_01_429_ROBO_Test1_Clon1_C2_0000C2019025_001_201030_07_01_01_E0_99_025_001_RDI.jpg\n",
      "18\n",
      "../Minstrel-Screens/C2019025/1/RMM3_01_429_ROBO_Test1_Clon1_C2_0000C2019025_001_201030_03_07_01_E0_99_025_001_RDI.jpg\n",
      "19\n",
      "../Minstrel-Screens/C2019025/1/RMM3_01_429_ROBO_Test1_Clon1_C2_0000C2019025_001_201030_08_08_01_E0_99_025_001_RDI.jpg\n",
      "20\n",
      "../Minstrel-Screens/C2019025/1/RMM3_01_429_ROBO_Test1_Clon1_C2_0000C2019025_001_201030_07_04_01_E0_99_025_001_RDI.jpg\n",
      "21\n",
      "../Minstrel-Screens/C2019025/1/RMM3_01_429_ROBO_Test1_Clon1_C2_0000C2019025_001_201030_04_04_01_E0_99_025_001_RDI.jpg\n",
      "22\n",
      "../Minstrel-Screens/C2019025/1/RMM3_01_429_ROBO_Test1_Clon1_C2_0000C2019025_001_201030_09_04_01_E0_99_025_001_RDI.jpg\n",
      "23\n",
      "../Minstrel-Screens/C2019025/1/RMM3_01_429_ROBO_Test1_Clon1_C2_0000C2019025_001_201030_09_01_01_E0_99_025_001_RDI.jpg\n",
      "24\n",
      "../Minstrel-Screens/C2019025/1/RMM3_01_429_ROBO_Test1_Clon1_C2_0000C2019025_001_201030_04_02_01_E0_99_025_001_RDI.jpg\n",
      "25\n",
      "../Minstrel-Screens/C2019025/1/RMM3_01_429_ROBO_Test1_Clon1_C2_0000C2019025_001_201030_05_07_01_E0_99_025_001_RDI.jpg\n",
      "26\n",
      "../Minstrel-Screens/C2019025/1/RMM3_01_429_ROBO_Test1_Clon1_C2_0000C2019025_001_201030_02_01_01_E0_99_025_001_RDI.jpg\n",
      "27\n",
      "../Minstrel-Screens/C2019025/1/RMM3_01_429_ROBO_Test1_Clon1_C2_0000C2019025_001_201030_09_08_01_E0_99_025_001_RDI.jpg\n",
      "28\n",
      "../Minstrel-Screens/C2019025/1/RMM3_01_429_ROBO_Test1_Clon1_C2_0000C2019025_001_201030_04_06_01_E0_99_025_001_RDI.jpg\n",
      "29\n",
      "../Minstrel-Screens/C2019025/1/RMM3_01_429_ROBO_Test1_Clon1_C2_0000C2019025_001_201030_10_02_01_E0_99_025_001_RDI.jpg\n",
      "30\n",
      "../Minstrel-Screens/C2019025/1/RMM3_01_429_ROBO_Test1_Clon1_C2_0000C2019025_001_201030_02_04_01_E0_99_025_001_RDI.jpg\n",
      "31\n",
      "../Minstrel-Screens/C2019025/1/RMM3_01_429_ROBO_Test1_Clon1_C2_0000C2019025_001_201030_09_03_01_E0_99_025_001_RDI.jpg\n",
      "32\n",
      "../Minstrel-Screens/C2019025/1/RMM3_01_429_ROBO_Test1_Clon1_C2_0000C2019025_001_201030_06_04_01_E0_99_025_001_RDI.jpg\n",
      "33\n",
      "../Minstrel-Screens/C2019025/1/RMM3_01_429_ROBO_Test1_Clon1_C2_0000C2019025_001_201030_10_06_01_E0_99_025_001_RDI.jpg\n",
      "34\n",
      "../Minstrel-Screens/C2019025/1/RMM3_01_429_ROBO_Test1_Clon1_C2_0000C2019025_001_201030_10_04_01_E0_99_025_001_RDI.jpg\n",
      "35\n",
      "../Minstrel-Screens/C2019025/1/RMM3_01_429_ROBO_Test1_Clon1_C2_0000C2019025_001_201030_12_06_01_E0_99_025_001_RDI.jpg\n",
      "36\n",
      "../Minstrel-Screens/C2019025/1/RMM3_01_429_ROBO_Test1_Clon1_C2_0000C2019025_001_201030_09_06_01_E0_99_025_001_RDI.jpg\n",
      "37\n",
      "../Minstrel-Screens/C2019025/1/RMM3_01_429_ROBO_Test1_Clon1_C2_0000C2019025_001_201030_08_04_01_E0_99_025_001_RDI.jpg\n",
      "38\n",
      "../Minstrel-Screens/C2019025/1/RMM3_01_429_ROBO_Test1_Clon1_C2_0000C2019025_001_201030_03_05_01_E0_99_025_001_RDI.jpg\n",
      "39\n",
      "../Minstrel-Screens/C2019025/1/RMM3_01_429_ROBO_Test1_Clon1_C2_0000C2019025_001_201030_10_05_01_E0_99_025_001_RDI.jpg\n",
      "40\n",
      "../Minstrel-Screens/C2019025/1/RMM3_01_429_ROBO_Test1_Clon1_C2_0000C2019025_001_201030_04_03_01_E0_99_025_001_RDI.jpg\n",
      "41\n",
      "../Minstrel-Screens/C2019025/1/RMM3_01_429_ROBO_Test1_Clon1_C2_0000C2019025_001_201030_03_06_01_E0_99_025_001_RDI.jpg\n",
      "42\n",
      "../Minstrel-Screens/C2019025/1/RMM3_01_429_ROBO_Test1_Clon1_C2_0000C2019025_001_201030_08_05_01_E0_99_025_001_RDI.jpg\n",
      "43\n",
      "../Minstrel-Screens/C2019025/1/RMM3_01_429_ROBO_Test1_Clon1_C2_0000C2019025_001_201030_02_03_01_E0_99_025_001_RDI.jpg\n",
      "44\n",
      "../Minstrel-Screens/C2019025/1/RMM3_01_429_ROBO_Test1_Clon1_C2_0000C2019025_001_201030_08_07_01_E0_99_025_001_RDI.jpg\n",
      "45\n",
      "../Minstrel-Screens/C2019025/1/RMM3_01_429_ROBO_Test1_Clon1_C2_0000C2019025_001_201030_10_01_01_E0_99_025_001_RDI.jpg\n",
      "46\n",
      "../Minstrel-Screens/C2019025/1/RMM3_01_429_ROBO_Test1_Clon1_C2_0000C2019025_001_201030_06_02_01_E0_99_025_001_RDI.jpg\n",
      "47\n",
      "../Minstrel-Screens/C2019025/1/RMM3_01_429_ROBO_Test1_Clon1_C2_0000C2019025_001_201030_11_01_01_E0_99_025_001_RDI.jpg\n",
      "48\n",
      "../Minstrel-Screens/C2019025/1/RMM3_01_429_ROBO_Test1_Clon1_C2_0000C2019025_001_201030_12_01_01_E0_99_025_001_RDI.jpg\n",
      "49\n",
      "../Minstrel-Screens/C2019025/1/RMM3_01_429_ROBO_Test1_Clon1_C2_0000C2019025_001_201030_06_03_01_E0_99_025_001_RDI.jpg\n",
      "50\n",
      "../Minstrel-Screens/C2019025/1/RMM3_01_429_ROBO_Test1_Clon1_C2_0000C2019025_001_201030_01_08_01_E0_99_025_001_RDI.jpg\n",
      "51\n",
      "../Minstrel-Screens/C2019025/1/RMM3_01_429_ROBO_Test1_Clon1_C2_0000C2019025_001_201030_01_03_01_E0_99_025_001_RDI.jpg\n",
      "52\n",
      "../Minstrel-Screens/C2019025/1/RMM3_01_429_ROBO_Test1_Clon1_C2_0000C2019025_001_201030_03_08_01_E0_99_025_001_RDI.jpg\n",
      "53\n",
      "../Minstrel-Screens/C2019025/1/RMM3_01_429_ROBO_Test1_Clon1_C2_0000C2019025_001_201030_12_08_01_E0_99_025_001_RDI.jpg\n",
      "54\n",
      "../Minstrel-Screens/C2019025/1/RMM3_01_429_ROBO_Test1_Clon1_C2_0000C2019025_001_201030_12_03_01_E0_99_025_001_RDI.jpg\n",
      "55\n",
      "../Minstrel-Screens/C2019025/1/RMM3_01_429_ROBO_Test1_Clon1_C2_0000C2019025_001_201030_07_02_01_E0_99_025_001_RDI.jpg\n",
      "56\n",
      "../Minstrel-Screens/C2019025/1/RMM3_01_429_ROBO_Test1_Clon1_C2_0000C2019025_001_201030_05_03_01_E0_99_025_001_RDI.jpg\n",
      "57\n",
      "../Minstrel-Screens/C2019025/1/RMM3_01_429_ROBO_Test1_Clon1_C2_0000C2019025_001_201030_08_02_01_E0_99_025_001_RDI.jpg\n",
      "58\n",
      "../Minstrel-Screens/C2019025/1/RMM3_01_429_ROBO_Test1_Clon1_C2_0000C2019025_001_201030_11_05_01_E0_99_025_001_RDI.jpg\n",
      "59\n",
      "../Minstrel-Screens/C2019025/1/RMM3_01_429_ROBO_Test1_Clon1_C2_0000C2019025_001_201030_03_02_01_E0_99_025_001_RDI.jpg\n",
      "60\n",
      "../Minstrel-Screens/C2019025/1/RMM3_01_429_ROBO_Test1_Clon1_C2_0000C2019025_001_201030_07_05_01_E0_99_025_001_RDI.jpg\n",
      "61\n",
      "../Minstrel-Screens/C2019025/1/RMM3_01_429_ROBO_Test1_Clon1_C2_0000C2019025_001_201030_06_08_01_E0_99_025_001_RDI.jpg\n",
      "62\n",
      "../Minstrel-Screens/C2019025/1/RMM3_01_429_ROBO_Test1_Clon1_C2_0000C2019025_001_201030_11_03_01_E0_99_025_001_RDI.jpg\n",
      "63\n",
      "../Minstrel-Screens/C2019025/1/RMM3_01_429_ROBO_Test1_Clon1_C2_0000C2019025_001_201030_01_07_01_E0_99_025_001_RDI.jpg\n",
      "64\n",
      "../Minstrel-Screens/C2019025/1/RMM3_01_429_ROBO_Test1_Clon1_C2_0000C2019025_001_201030_01_01_01_E0_99_025_001_RDI.jpg\n",
      "65\n",
      "../Minstrel-Screens/C2019025/1/RMM3_01_429_ROBO_Test1_Clon1_C2_0000C2019025_001_201030_02_05_01_E0_99_025_001_RDI.jpg\n",
      "66\n",
      "../Minstrel-Screens/C2019025/1/RMM3_01_429_ROBO_Test1_Clon1_C2_0000C2019025_001_201030_09_05_01_E0_99_025_001_RDI.jpg\n",
      "67\n",
      "../Minstrel-Screens/C2019025/1/RMM3_01_429_ROBO_Test1_Clon1_C2_0000C2019025_001_201030_10_07_01_E0_99_025_001_RDI.jpg\n",
      "68\n",
      "../Minstrel-Screens/C2019025/1/RMM3_01_429_ROBO_Test1_Clon1_C2_0000C2019025_001_201030_11_02_01_E0_99_025_001_RDI.jpg\n",
      "69\n",
      "../Minstrel-Screens/C2019025/1/RMM3_01_429_ROBO_Test1_Clon1_C2_0000C2019025_001_201030_02_06_01_E0_99_025_001_RDI.jpg\n",
      "70\n",
      "../Minstrel-Screens/C2019025/1/RMM3_01_429_ROBO_Test1_Clon1_C2_0000C2019025_001_201030_05_02_01_E0_99_025_001_RDI.jpg\n",
      "71\n",
      "../Minstrel-Screens/C2019025/1/RMM3_01_429_ROBO_Test1_Clon1_C2_0000C2019025_001_201030_04_01_01_E0_99_025_001_RDI.jpg\n",
      "72\n",
      "../Minstrel-Screens/C2019025/1/RMM3_01_429_ROBO_Test1_Clon1_C2_0000C2019025_001_201030_04_05_01_E0_99_025_001_RDI.jpg\n",
      "73\n",
      "../Minstrel-Screens/C2019025/1/RMM3_01_429_ROBO_Test1_Clon1_C2_0000C2019025_001_201030_01_02_01_E0_99_025_001_RDI.jpg\n",
      "74\n",
      "../Minstrel-Screens/C2019025/1/RMM3_01_429_ROBO_Test1_Clon1_C2_0000C2019025_001_201030_02_07_01_E0_99_025_001_RDI.jpg\n",
      "75\n",
      "../Minstrel-Screens/C2019025/1/RMM3_01_429_ROBO_Test1_Clon1_C2_0000C2019025_001_201030_05_01_01_E0_99_025_001_RDI.jpg\n",
      "76\n",
      "../Minstrel-Screens/C2019025/1/RMM3_01_429_ROBO_Test1_Clon1_C2_0000C2019025_001_201030_11_06_01_E0_99_025_001_RDI.jpg\n",
      "77\n",
      "../Minstrel-Screens/C2019025/1/RMM3_01_429_ROBO_Test1_Clon1_C2_0000C2019025_001_201030_12_05_01_E0_99_025_001_RDI.jpg\n",
      "78\n",
      "../Minstrel-Screens/C2019025/1/RMM3_01_429_ROBO_Test1_Clon1_C2_0000C2019025_001_201030_08_06_01_E0_99_025_001_RDI.jpg\n",
      "79\n",
      "../Minstrel-Screens/C2019025/1/RMM3_01_429_ROBO_Test1_Clon1_C2_0000C2019025_001_201030_12_02_01_E0_99_025_001_RDI.jpg\n",
      "80\n",
      "../Minstrel-Screens/C2019025/1/RMM3_01_429_ROBO_Test1_Clon1_C2_0000C2019025_001_201030_09_02_01_E0_99_025_001_RDI.jpg\n",
      "81\n",
      "../Minstrel-Screens/C2019025/1/RMM3_01_429_ROBO_Test1_Clon1_C2_0000C2019025_001_201030_10_03_01_E0_99_025_001_RDI.jpg\n",
      "82\n",
      "../Minstrel-Screens/C2019025/1/RMM3_01_429_ROBO_Test1_Clon1_C2_0000C2019025_001_201030_05_04_01_E0_99_025_001_RDI.jpg\n",
      "83\n",
      "../Minstrel-Screens/C2019025/1/RMM3_01_429_ROBO_Test1_Clon1_C2_0000C2019025_001_201030_12_07_01_E0_99_025_001_RDI.jpg\n",
      "84\n",
      "../Minstrel-Screens/C2019025/1/RMM3_01_429_ROBO_Test1_Clon1_C2_0000C2019025_001_201030_11_08_01_E0_99_025_001_RDI.jpg\n",
      "85\n",
      "../Minstrel-Screens/C2019025/1/RMM3_01_429_ROBO_Test1_Clon1_C2_0000C2019025_001_201030_01_06_01_E0_99_025_001_RDI.jpg\n",
      "86\n",
      "../Minstrel-Screens/C2019025/1/RMM3_01_429_ROBO_Test1_Clon1_C2_0000C2019025_001_201030_09_07_01_E0_99_025_001_RDI.jpg\n",
      "87\n",
      "../Minstrel-Screens/C2019025/1/RMM3_01_429_ROBO_Test1_Clon1_C2_0000C2019025_001_201030_03_04_01_E0_99_025_001_RDI.jpg\n",
      "88\n",
      "../Minstrel-Screens/C2019025/1/RMM3_01_429_ROBO_Test1_Clon1_C2_0000C2019025_001_201030_07_07_01_E0_99_025_001_RDI.jpg\n",
      "89\n",
      "../Minstrel-Screens/C2019025/1/RMM3_01_429_ROBO_Test1_Clon1_C2_0000C2019025_001_201030_12_04_01_E0_99_025_001_RDI.jpg\n",
      "90\n",
      "../Minstrel-Screens/C2019025/1/RMM3_01_429_ROBO_Test1_Clon1_C2_0000C2019025_001_201030_06_05_01_E0_99_025_001_RDI.jpg\n",
      "91\n",
      "../Minstrel-Screens/C2019025/1/RMM3_01_429_ROBO_Test1_Clon1_C2_0000C2019025_001_201030_05_06_01_E0_99_025_001_RDI.jpg\n",
      "92\n",
      "../Minstrel-Screens/C2019025/1/RMM3_01_429_ROBO_Test1_Clon1_C2_0000C2019025_001_201030_07_06_01_E0_99_025_001_RDI.jpg\n",
      "93\n",
      "../Minstrel-Screens/C2019025/1/RMM3_01_429_ROBO_Test1_Clon1_C2_0000C2019025_001_201030_06_06_01_E0_99_025_001_RDI.jpg\n",
      "94\n",
      "../Minstrel-Screens/C2019025/1/RMM3_01_429_ROBO_Test1_Clon1_C2_0000C2019025_001_201030_07_08_01_E0_99_025_001_RDI.jpg\n",
      "95\n"
     ]
    }
   ],
   "source": [
    "#Write all the serialized images to file:\n",
    "with tf.io.TFRecordWriter(record_file) as writer:\n",
    "    for label, filename in image_labels.items():\n",
    "        print(filename)\n",
    "        print(label)\n",
    "        tf_example = tfrecord_writer(filename, label)\n",
    "        writer.write(tf_example.SerializeToString())"
   ],
   "metadata": {
    "collapsed": false,
    "pycharm": {
     "name": "#%%\n"
    }
   }
  },
  {
   "cell_type": "code",
   "source": [
    "pred_dataset = get_dataset(record_file, batch_size=BATCH_SIZE, im_size=IMAGE_SIZE)\n",
    "#Let's make sure we can read our files:\n",
    "raw_example = tf.data.TFRecordDataset(record_file)\n",
    "parsed_example = raw_example.map(lambda x: tf.io.parse_example(x, feature_description))\n",
    "\n",
    "#Read our training data from parsed_example into a real dataset:\n",
    "imlist = [] #Vectorized images\n",
    "label_list = [] #Machine-readable labels\n",
    "human_label_list = [] #Human-readable labels\n",
    "\n",
    "for n in parsed_example:\n",
    "  this_image = tf.io.decode_jpeg(n['image/encoded'].values.numpy()[0]) #Get image data from TFR\n",
    "  this_image = tf.cast(this_image, tf.int16) #Downsampling to int16\n",
    "  this_image = tf.image.resize_with_crop_or_pad(  #Downsampling by cropping to drop\n",
    "      this_image, 600,600\n",
    "      )\n",
    "  this_image = tf.image.resize(this_image, (IMAGE_SIZE[0], IMAGE_SIZE[1])) #Downsampling by resizing image\n",
    "  this_label = n['image/class/label'].values.numpy()[0] #Get image class number\n",
    "  this_human_label = n['image/class/text'].values.numpy()[0] #Get image class name\n",
    "\n",
    "  this_image = (np.array(this_image) / 255)\n",
    "  imlist.append(this_image)\n",
    "  label_list.append(this_label)\n",
    "  human_label_list.append(this_human_label)\n",
    "\n",
    "imlist = np.array(imlist)\n",
    "label_list = np.array(label_list)\n",
    "human_label_list = np.array(human_label_list)"
   ],
   "metadata": {
    "collapsed": false,
    "pycharm": {
     "name": "#%%\n"
    }
   },
   "execution_count": 249,
   "outputs": []
  },
  {
   "cell_type": "code",
   "execution_count": 6,
   "outputs": [],
   "source": [
    "import s3fs\n",
    "import pandas as pd\n",
    "from ImageRecognition.utils.pandas_tfrecords import pd2tf, tf2pd"
   ],
   "metadata": {
    "collapsed": false,
    "pycharm": {
     "name": "#%%\n"
    }
   }
  },
  {
   "cell_type": "code",
   "execution_count": 9,
   "outputs": [
    {
     "data": {
      "text/plain": "   image/channels image/class/label image/class/raw image/class/source  \\\n0               3                 0               0                  5   \n1               3                 1               1                  5   \n2               3                 2               2                  5   \n3               3                 3               3                  5   \n4               3                 4               4                  5   \n..            ...               ...             ...                ...   \n91              3                91              91                  5   \n92              3                92              92                  5   \n93              3                93              93                  5   \n94              3                94              94                  5   \n95              3                95              95                  5   \n\n                                     image/class/text image/colorspace  \\\n0                                                                  RGB   \n1                                                   \u0000              RGB   \n2                                                  \u0000\u0000              RGB   \n3                                                 \u0000\u0000\u0000              RGB   \n4                                                \u0000\u0000\u0000\u0000              RGB   \n..                                                ...              ...   \n91  \u0000\u0000\u0000\u0000\u0000\u0000\u0000\u0000\u0000\u0000\u0000\u0000\u0000\u0000\u0000\u0000\u0000\u0000\u0000\u0000\u0000\u0000\u0000\u0000\u0000\u0000\u0000\u0000\u0000\u0000\u0000\u0000\u0000\u0000\u0000\u0000\u0000\u0000\u0000\u0000\u0000\u0000\u0000\u0000\u0000\u0000...              RGB   \n92  \u0000\u0000\u0000\u0000\u0000\u0000\u0000\u0000\u0000\u0000\u0000\u0000\u0000\u0000\u0000\u0000\u0000\u0000\u0000\u0000\u0000\u0000\u0000\u0000\u0000\u0000\u0000\u0000\u0000\u0000\u0000\u0000\u0000\u0000\u0000\u0000\u0000\u0000\u0000\u0000\u0000\u0000\u0000\u0000\u0000\u0000...              RGB   \n93  \u0000\u0000\u0000\u0000\u0000\u0000\u0000\u0000\u0000\u0000\u0000\u0000\u0000\u0000\u0000\u0000\u0000\u0000\u0000\u0000\u0000\u0000\u0000\u0000\u0000\u0000\u0000\u0000\u0000\u0000\u0000\u0000\u0000\u0000\u0000\u0000\u0000\u0000\u0000\u0000\u0000\u0000\u0000\u0000\u0000\u0000...              RGB   \n94  \u0000\u0000\u0000\u0000\u0000\u0000\u0000\u0000\u0000\u0000\u0000\u0000\u0000\u0000\u0000\u0000\u0000\u0000\u0000\u0000\u0000\u0000\u0000\u0000\u0000\u0000\u0000\u0000\u0000\u0000\u0000\u0000\u0000\u0000\u0000\u0000\u0000\u0000\u0000\u0000\u0000\u0000\u0000\u0000\u0000\u0000...              RGB   \n95  \u0000\u0000\u0000\u0000\u0000\u0000\u0000\u0000\u0000\u0000\u0000\u0000\u0000\u0000\u0000\u0000\u0000\u0000\u0000\u0000\u0000\u0000\u0000\u0000\u0000\u0000\u0000\u0000\u0000\u0000\u0000\u0000\u0000\u0000\u0000\u0000\u0000\u0000\u0000\u0000\u0000\u0000\u0000\u0000\u0000\u0000...              RGB   \n\n                                        image/encoded  \\\n0   b'\\xff\\xd8\\xff\\xe0\\x00\\x10JFIF\\x00\\x01\\x01\\x00...   \n1   b'\\xff\\xd8\\xff\\xe0\\x00\\x10JFIF\\x00\\x01\\x01\\x00...   \n2   b'\\xff\\xd8\\xff\\xe0\\x00\\x10JFIF\\x00\\x01\\x01\\x00...   \n3   b'\\xff\\xd8\\xff\\xe0\\x00\\x10JFIF\\x00\\x01\\x01\\x00...   \n4   b'\\xff\\xd8\\xff\\xe0\\x00\\x10JFIF\\x00\\x01\\x01\\x00...   \n..                                                ...   \n91  b'\\xff\\xd8\\xff\\xe0\\x00\\x10JFIF\\x00\\x01\\x01\\x00...   \n92  b'\\xff\\xd8\\xff\\xe0\\x00\\x10JFIF\\x00\\x01\\x01\\x00...   \n93  b'\\xff\\xd8\\xff\\xe0\\x00\\x10JFIF\\x00\\x01\\x01\\x00...   \n94  b'\\xff\\xd8\\xff\\xe0\\x00\\x10JFIF\\x00\\x01\\x01\\x00...   \n95  b'\\xff\\xd8\\xff\\xe0\\x00\\x10JFIF\\x00\\x01\\x01\\x00...   \n\n                                       image/filename image/format  \\\n0   ../Minstrel-Screens/C2019025/1/RMM3_01_429_ROB...         JPEG   \n1   ../Minstrel-Screens/C2019025/1/RMM3_01_429_ROB...         JPEG   \n2   ../Minstrel-Screens/C2019025/1/RMM3_01_429_ROB...         JPEG   \n3   ../Minstrel-Screens/C2019025/1/RMM3_01_429_ROB...         JPEG   \n4   ../Minstrel-Screens/C2019025/1/RMM3_01_429_ROB...         JPEG   \n..                                                ...          ...   \n91  ../Minstrel-Screens/C2019025/1/RMM3_01_429_ROB...         JPEG   \n92  ../Minstrel-Screens/C2019025/1/RMM3_01_429_ROB...         JPEG   \n93  ../Minstrel-Screens/C2019025/1/RMM3_01_429_ROB...         JPEG   \n94  ../Minstrel-Screens/C2019025/1/RMM3_01_429_ROB...         JPEG   \n95  ../Minstrel-Screens/C2019025/1/RMM3_01_429_ROB...         JPEG   \n\n   image/height                                           image/id image/width  \n0          1920  ../Minstrel-Screens/C2019025/1/RMM3_01_429_ROB...        2560  \n1          1920  ../Minstrel-Screens/C2019025/1/RMM3_01_429_ROB...        2560  \n2          1920  ../Minstrel-Screens/C2019025/1/RMM3_01_429_ROB...        2560  \n3          1920  ../Minstrel-Screens/C2019025/1/RMM3_01_429_ROB...        2560  \n4          1920  ../Minstrel-Screens/C2019025/1/RMM3_01_429_ROB...        2560  \n..          ...                                                ...         ...  \n91         1920  ../Minstrel-Screens/C2019025/1/RMM3_01_429_ROB...        2560  \n92         1920  ../Minstrel-Screens/C2019025/1/RMM3_01_429_ROB...        2560  \n93         1920  ../Minstrel-Screens/C2019025/1/RMM3_01_429_ROB...        2560  \n94         1920  ../Minstrel-Screens/C2019025/1/RMM3_01_429_ROB...        2560  \n95         1920  ../Minstrel-Screens/C2019025/1/RMM3_01_429_ROB...        2560  \n\n[96 rows x 12 columns]",
      "text/html": "<div>\n<style scoped>\n    .dataframe tbody tr th:only-of-type {\n        vertical-align: middle;\n    }\n\n    .dataframe tbody tr th {\n        vertical-align: top;\n    }\n\n    .dataframe thead th {\n        text-align: right;\n    }\n</style>\n<table border=\"1\" class=\"dataframe\">\n  <thead>\n    <tr style=\"text-align: right;\">\n      <th></th>\n      <th>image/channels</th>\n      <th>image/class/label</th>\n      <th>image/class/raw</th>\n      <th>image/class/source</th>\n      <th>image/class/text</th>\n      <th>image/colorspace</th>\n      <th>image/encoded</th>\n      <th>image/filename</th>\n      <th>image/format</th>\n      <th>image/height</th>\n      <th>image/id</th>\n      <th>image/width</th>\n    </tr>\n  </thead>\n  <tbody>\n    <tr>\n      <th>0</th>\n      <td>3</td>\n      <td>0</td>\n      <td>0</td>\n      <td>5</td>\n      <td></td>\n      <td>RGB</td>\n      <td>b'\\xff\\xd8\\xff\\xe0\\x00\\x10JFIF\\x00\\x01\\x01\\x00...</td>\n      <td>../Minstrel-Screens/C2019025/1/RMM3_01_429_ROB...</td>\n      <td>JPEG</td>\n      <td>1920</td>\n      <td>../Minstrel-Screens/C2019025/1/RMM3_01_429_ROB...</td>\n      <td>2560</td>\n    </tr>\n    <tr>\n      <th>1</th>\n      <td>3</td>\n      <td>1</td>\n      <td>1</td>\n      <td>5</td>\n      <td>\u0000</td>\n      <td>RGB</td>\n      <td>b'\\xff\\xd8\\xff\\xe0\\x00\\x10JFIF\\x00\\x01\\x01\\x00...</td>\n      <td>../Minstrel-Screens/C2019025/1/RMM3_01_429_ROB...</td>\n      <td>JPEG</td>\n      <td>1920</td>\n      <td>../Minstrel-Screens/C2019025/1/RMM3_01_429_ROB...</td>\n      <td>2560</td>\n    </tr>\n    <tr>\n      <th>2</th>\n      <td>3</td>\n      <td>2</td>\n      <td>2</td>\n      <td>5</td>\n      <td>\u0000\u0000</td>\n      <td>RGB</td>\n      <td>b'\\xff\\xd8\\xff\\xe0\\x00\\x10JFIF\\x00\\x01\\x01\\x00...</td>\n      <td>../Minstrel-Screens/C2019025/1/RMM3_01_429_ROB...</td>\n      <td>JPEG</td>\n      <td>1920</td>\n      <td>../Minstrel-Screens/C2019025/1/RMM3_01_429_ROB...</td>\n      <td>2560</td>\n    </tr>\n    <tr>\n      <th>3</th>\n      <td>3</td>\n      <td>3</td>\n      <td>3</td>\n      <td>5</td>\n      <td>\u0000\u0000\u0000</td>\n      <td>RGB</td>\n      <td>b'\\xff\\xd8\\xff\\xe0\\x00\\x10JFIF\\x00\\x01\\x01\\x00...</td>\n      <td>../Minstrel-Screens/C2019025/1/RMM3_01_429_ROB...</td>\n      <td>JPEG</td>\n      <td>1920</td>\n      <td>../Minstrel-Screens/C2019025/1/RMM3_01_429_ROB...</td>\n      <td>2560</td>\n    </tr>\n    <tr>\n      <th>4</th>\n      <td>3</td>\n      <td>4</td>\n      <td>4</td>\n      <td>5</td>\n      <td>\u0000\u0000\u0000\u0000</td>\n      <td>RGB</td>\n      <td>b'\\xff\\xd8\\xff\\xe0\\x00\\x10JFIF\\x00\\x01\\x01\\x00...</td>\n      <td>../Minstrel-Screens/C2019025/1/RMM3_01_429_ROB...</td>\n      <td>JPEG</td>\n      <td>1920</td>\n      <td>../Minstrel-Screens/C2019025/1/RMM3_01_429_ROB...</td>\n      <td>2560</td>\n    </tr>\n    <tr>\n      <th>...</th>\n      <td>...</td>\n      <td>...</td>\n      <td>...</td>\n      <td>...</td>\n      <td>...</td>\n      <td>...</td>\n      <td>...</td>\n      <td>...</td>\n      <td>...</td>\n      <td>...</td>\n      <td>...</td>\n      <td>...</td>\n    </tr>\n    <tr>\n      <th>91</th>\n      <td>3</td>\n      <td>91</td>\n      <td>91</td>\n      <td>5</td>\n      <td>\u0000\u0000\u0000\u0000\u0000\u0000\u0000\u0000\u0000\u0000\u0000\u0000\u0000\u0000\u0000\u0000\u0000\u0000\u0000\u0000\u0000\u0000\u0000\u0000\u0000\u0000\u0000\u0000\u0000\u0000\u0000\u0000\u0000\u0000\u0000\u0000\u0000\u0000\u0000\u0000\u0000\u0000\u0000\u0000\u0000\u0000...</td>\n      <td>RGB</td>\n      <td>b'\\xff\\xd8\\xff\\xe0\\x00\\x10JFIF\\x00\\x01\\x01\\x00...</td>\n      <td>../Minstrel-Screens/C2019025/1/RMM3_01_429_ROB...</td>\n      <td>JPEG</td>\n      <td>1920</td>\n      <td>../Minstrel-Screens/C2019025/1/RMM3_01_429_ROB...</td>\n      <td>2560</td>\n    </tr>\n    <tr>\n      <th>92</th>\n      <td>3</td>\n      <td>92</td>\n      <td>92</td>\n      <td>5</td>\n      <td>\u0000\u0000\u0000\u0000\u0000\u0000\u0000\u0000\u0000\u0000\u0000\u0000\u0000\u0000\u0000\u0000\u0000\u0000\u0000\u0000\u0000\u0000\u0000\u0000\u0000\u0000\u0000\u0000\u0000\u0000\u0000\u0000\u0000\u0000\u0000\u0000\u0000\u0000\u0000\u0000\u0000\u0000\u0000\u0000\u0000\u0000...</td>\n      <td>RGB</td>\n      <td>b'\\xff\\xd8\\xff\\xe0\\x00\\x10JFIF\\x00\\x01\\x01\\x00...</td>\n      <td>../Minstrel-Screens/C2019025/1/RMM3_01_429_ROB...</td>\n      <td>JPEG</td>\n      <td>1920</td>\n      <td>../Minstrel-Screens/C2019025/1/RMM3_01_429_ROB...</td>\n      <td>2560</td>\n    </tr>\n    <tr>\n      <th>93</th>\n      <td>3</td>\n      <td>93</td>\n      <td>93</td>\n      <td>5</td>\n      <td>\u0000\u0000\u0000\u0000\u0000\u0000\u0000\u0000\u0000\u0000\u0000\u0000\u0000\u0000\u0000\u0000\u0000\u0000\u0000\u0000\u0000\u0000\u0000\u0000\u0000\u0000\u0000\u0000\u0000\u0000\u0000\u0000\u0000\u0000\u0000\u0000\u0000\u0000\u0000\u0000\u0000\u0000\u0000\u0000\u0000\u0000...</td>\n      <td>RGB</td>\n      <td>b'\\xff\\xd8\\xff\\xe0\\x00\\x10JFIF\\x00\\x01\\x01\\x00...</td>\n      <td>../Minstrel-Screens/C2019025/1/RMM3_01_429_ROB...</td>\n      <td>JPEG</td>\n      <td>1920</td>\n      <td>../Minstrel-Screens/C2019025/1/RMM3_01_429_ROB...</td>\n      <td>2560</td>\n    </tr>\n    <tr>\n      <th>94</th>\n      <td>3</td>\n      <td>94</td>\n      <td>94</td>\n      <td>5</td>\n      <td>\u0000\u0000\u0000\u0000\u0000\u0000\u0000\u0000\u0000\u0000\u0000\u0000\u0000\u0000\u0000\u0000\u0000\u0000\u0000\u0000\u0000\u0000\u0000\u0000\u0000\u0000\u0000\u0000\u0000\u0000\u0000\u0000\u0000\u0000\u0000\u0000\u0000\u0000\u0000\u0000\u0000\u0000\u0000\u0000\u0000\u0000...</td>\n      <td>RGB</td>\n      <td>b'\\xff\\xd8\\xff\\xe0\\x00\\x10JFIF\\x00\\x01\\x01\\x00...</td>\n      <td>../Minstrel-Screens/C2019025/1/RMM3_01_429_ROB...</td>\n      <td>JPEG</td>\n      <td>1920</td>\n      <td>../Minstrel-Screens/C2019025/1/RMM3_01_429_ROB...</td>\n      <td>2560</td>\n    </tr>\n    <tr>\n      <th>95</th>\n      <td>3</td>\n      <td>95</td>\n      <td>95</td>\n      <td>5</td>\n      <td>\u0000\u0000\u0000\u0000\u0000\u0000\u0000\u0000\u0000\u0000\u0000\u0000\u0000\u0000\u0000\u0000\u0000\u0000\u0000\u0000\u0000\u0000\u0000\u0000\u0000\u0000\u0000\u0000\u0000\u0000\u0000\u0000\u0000\u0000\u0000\u0000\u0000\u0000\u0000\u0000\u0000\u0000\u0000\u0000\u0000\u0000...</td>\n      <td>RGB</td>\n      <td>b'\\xff\\xd8\\xff\\xe0\\x00\\x10JFIF\\x00\\x01\\x01\\x00...</td>\n      <td>../Minstrel-Screens/C2019025/1/RMM3_01_429_ROB...</td>\n      <td>JPEG</td>\n      <td>1920</td>\n      <td>../Minstrel-Screens/C2019025/1/RMM3_01_429_ROB...</td>\n      <td>2560</td>\n    </tr>\n  </tbody>\n</table>\n<p>96 rows × 12 columns</p>\n</div>"
     },
     "execution_count": 9,
     "metadata": {},
     "output_type": "execute_result"
    }
   ],
   "source": [
    "#THIS CHANGES EVERYTHING! FEEL THE POWAH!\n",
    "my_df = tf2pd('../test_images.tfrecords')\n",
    "my_df"
   ],
   "metadata": {
    "collapsed": false,
    "pycharm": {
     "name": "#%%\n"
    }
   }
  },
  {
   "cell_type": "code",
   "execution_count": 5,
   "outputs": [
    {
     "data": {
      "text/plain": "'2020-12-13'"
     },
     "execution_count": 5,
     "metadata": {},
     "output_type": "execute_result"
    }
   ],
   "source": [
    "import datetime\n",
    "str(datetime.datetime.now().date())"
   ],
   "metadata": {
    "collapsed": false,
    "pycharm": {
     "name": "#%%\n"
    }
   }
  },
  {
   "cell_type": "code",
   "execution_count": null,
   "outputs": [],
   "source": [],
   "metadata": {
    "collapsed": false,
    "pycharm": {
     "name": "#%%\n"
    }
   }
  }
 ],
 "metadata": {
  "kernelspec": {
   "display_name": "Python 3",
   "language": "python",
   "name": "python3"
  },
  "language_info": {
   "codemirror_mode": {
    "name": "ipython",
    "version": 2
   },
   "file_extension": ".py",
   "mimetype": "text/x-python",
   "name": "python",
   "nbconvert_exporter": "python",
   "pygments_lexer": "ipython2",
   "version": "2.7.6"
  }
 },
 "nbformat": 4,
 "nbformat_minor": 0
}